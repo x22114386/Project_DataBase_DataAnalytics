{
 "cells": [
  {
   "cell_type": "code",
   "execution_count": 2,
   "id": "c59f75a3",
   "metadata": {},
   "outputs": [
    {
     "name": "stdout",
     "output_type": "stream",
     "text": [
      "Defaulting to user installation because normal site-packages is not writeable\n",
      "Requirement already satisfied: psycopg2 in c:\\users\\carol\\appdata\\roaming\\python\\python39\\site-packages (2.9.6)\n",
      "Note: you may need to restart the kernel to use updated packages.\n"
     ]
    }
   ],
   "source": [
    "#Installing the module to connect to postgres\n",
    "\n",
    "%pip install psycopg2"
   ]
  },
  {
   "cell_type": "code",
   "execution_count": 3,
   "id": "a5704027",
   "metadata": {},
   "outputs": [
    {
     "name": "stdout",
     "output_type": "stream",
     "text": [
      "Error while connecting to PostgreSQL database \"postgres\" already exists\n",
      "\n"
     ]
    }
   ],
   "source": [
    "#Creating the Database in postgresssql\n",
    "#Table created already in the server \n",
    "\n",
    "import psycopg2\n",
    "\n",
    "try:\n",
    " dbConnection = psycopg2.connect(user = \"dap\", password = \"dap\", host = \"87.44.4.70\", port = \"5432\", database = \"postgres\")\n",
    " \n",
    " dbConnection.set_isolation_level(0) # AUTOCOMMIT\n",
    " dbCursor = dbConnection.cursor()\n",
    "    \n",
    " dbCursor.execute('CREATE DATABASE postgres;')\n",
    " dbCursor.close()\n",
    "    \n",
    "except (Exception, psycopg2.Error) as dbError :\n",
    " print (\"Error while connecting to PostgreSQL\", dbError)\n",
    "\n",
    "finally:\n",
    " if(dbConnection): dbConnection.close()"
   ]
  },
  {
   "cell_type": "code",
   "execution_count": null,
   "id": "aac85cfc",
   "metadata": {},
   "outputs": [],
   "source": [
    "#Creating a table in postgres\n",
    "\n",
    "import psycopg2\n",
    "\n",
    "conn = psycopg2.connect(database=\"postgres\", user=\"dap\", password=\"dap\", host=\"87.44.4.70\", port=\"5432\")\n",
    "\n",
    "cur = conn.cursor()\n",
    " \n",
    "cur.execute('DROP TABLE IF EXISTS ElectVehicleData;')  \n",
    "print('Creating table....')\n",
    "cur.execute(\"\"\"\n",
    "    CREATE TABLE ElectVehicleData (\n",
    "        VIN VARCHAR(50), County VARCHAR(50) NOT NULL, City VARCHAR(50) NOT NULL, State VARCHAR(50) NOT NULL, Postal_Code VARCHAR(50), Model_Year VARCHAR(50), Make VARCHAR(50), Model VARCHAR(50), Electric_Vehicle_Type VARCHAR(100), Clean_Alternative_Fuel_Vehicle_Eligibility VARCHAR(100), Electric_Range VARCHAR(50), Base_MSRP VARCHAR(50),\n",
    "        Legislative_District VARCHAR(50), DOL_Vehicle_ID VARCHAR(50), Vehicle_Location VARCHAR(50), Electric_Utility VARCHAR(250), \n",
    "        Census_Tract VARCHAR(50), Counties VARCHAR(50), Congressional_Districts VARCHAR(50), WAOFM_GIS VARCHAR(50));\"\"\")\n",
    "\n",
    "print('ElectVehicleData table created.')\n",
    "# Commit the transaction and close the cursor and connection\n",
    "conn.commit()\n",
    "cur.close()\n",
    "conn.close()"
   ]
  },
  {
   "cell_type": "code",
   "execution_count": null,
   "id": "2def520f",
   "metadata": {},
   "outputs": [],
   "source": [
    "#Inserting values into table in postgres\n",
    "\n",
    "import psycopg2\n",
    "import csv\n",
    "\n",
    "conn = psycopg2.connect(database=\"postgres\", user=\"dap\", password=\"dap\", host=\"87.44.4.70\", port=\"5432\")\n",
    "\n",
    "cur = conn.cursor()\n",
    "\n",
    "insert_statement = \"INSERT INTO ElectVehicleData (VIN, County, City, State, Postal_Code, Model_Year, Make, Model, Electric_Vehicle_Type, Clean_Alternative_Fuel_Vehicle_Eligibility, Electric_Range, Base_MSRP, Legislative_District, DOL_Vehicle_ID, Vehicle_Location, Electric_Utility, Census_Tract, Counties, Congressional_Districts, WAOFM_GIS) VALUES (%s, %s, %s, %s, %s, %s, %s, %s, %s, %s, %s, %s, %s, %s, %s, %s, %s, %s,%s, %s)\"\n",
    "\n",
    "# Open the CSV file\n",
    "with open('ElectricVehdata.csv', 'r') as csv_file:\n",
    "\n",
    "    csv_reader = csv.reader(csv_file, delimiter=',')\n",
    "\n",
    "    next(csv_reader)\n",
    "\n",
    "    for col in csv_reader:\n",
    "\n",
    "        values_to_insert = (col[0], col[1], col[2], col[3], col[4], col[5], col[6], col[7], col[8], col[9], col[10], col[11], col[12], col[13], col[14], col[15], col[16], col[17], col[18], col[19])\n",
    "        \n",
    "        # Executing the INSERT statement\n",
    "        cur.execute(insert_statement, values_to_insert)\n",
    "        \n",
    "print('Values are inserted into the table.')\n",
    "# Commit the transaction\n",
    "conn.commit()\n",
    "\n",
    "# Close the cursor and connection\n",
    "cur.close()\n",
    "conn.close()\n"
   ]
  }
 ],
 "metadata": {
  "kernelspec": {
   "display_name": "Python 3 (ipykernel)",
   "language": "python",
   "name": "python3"
  },
  "language_info": {
   "codemirror_mode": {
    "name": "ipython",
    "version": 3
   },
   "file_extension": ".py",
   "mimetype": "text/x-python",
   "name": "python",
   "nbconvert_exporter": "python",
   "pygments_lexer": "ipython3",
   "version": "3.9.13"
  }
 },
 "nbformat": 4,
 "nbformat_minor": 5
}
