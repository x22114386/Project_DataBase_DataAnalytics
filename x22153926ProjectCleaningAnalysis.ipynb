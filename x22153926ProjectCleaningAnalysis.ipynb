{
 "cells": [
  {
   "cell_type": "markdown",
   "id": "19c73e1c",
   "metadata": {},
   "source": [
    "Data Cleaning"
   ]
  },
  {
   "cell_type": "code",
   "execution_count": 5,
   "id": "049501b0",
   "metadata": {},
   "outputs": [
    {
     "name": "stdout",
     "output_type": "stream",
     "text": [
      "Shape of data:  (124716, 20)\n"
     ]
    }
   ],
   "source": [
    "import pandas as pd\n",
    "import numpy as np\n",
    "\n",
    "\n",
    "df = pd.read_csv('Vehdata.csv')\n",
    "print('Shape of data: ', df.shape) #Displaying total number of rows and columns"
   ]
  },
  {
   "cell_type": "code",
   "execution_count": 7,
   "id": "c6a0b805",
   "metadata": {},
   "outputs": [
    {
     "name": "stdout",
     "output_type": "stream",
     "text": [
      "   VIN (1-10)     County       City State  Postal Code  Model Year   Make  \\\n",
      "0  5YJ3E1EB4L     Yakima     Yakima    WA      98908.0        2020  TESLA   \n",
      "1  5YJ3E1EA7K  San Diego  San Diego    CA      92101.0        2019  TESLA   \n",
      "2  7JRBR0FL9M       Lane     Eugene    OR      97404.0        2021  VOLVO   \n",
      "3  5YJXCBE21K     Yakima     Yakima    WA      98908.0        2019  TESLA   \n",
      "4  5UXKT0C5XH  Snohomish    Bothell    WA      98021.0        2017    BMW   \n",
      "\n",
      "     Model                   Electric Vehicle Type  \\\n",
      "0  MODEL 3          Battery Electric Vehicle (BEV)   \n",
      "1  MODEL 3          Battery Electric Vehicle (BEV)   \n",
      "2      S60  Plug-in Hybrid Electric Vehicle (PHEV)   \n",
      "3  MODEL X          Battery Electric Vehicle (BEV)   \n",
      "4       X5  Plug-in Hybrid Electric Vehicle (PHEV)   \n",
      "\n",
      "  Clean Alternative Fuel Vehicle (CAFV) Eligibility  Electric Range  \\\n",
      "0           Clean Alternative Fuel Vehicle Eligible             322   \n",
      "1           Clean Alternative Fuel Vehicle Eligible             220   \n",
      "2             Not eligible due to low battery range              22   \n",
      "3           Clean Alternative Fuel Vehicle Eligible             289   \n",
      "4             Not eligible due to low battery range              14   \n",
      "\n",
      "   Base MSRP  Legislative District  DOL Vehicle ID  \\\n",
      "0          0                  14.0       127175366   \n",
      "1          0                   NaN       266614659   \n",
      "2          0                   NaN       144502018   \n",
      "3          0                  14.0       477039944   \n",
      "4          0                   1.0       106314946   \n",
      "\n",
      "              Vehicle Location        Electric Utility  2020 Census Tract  \\\n",
      "0  POINT (-120.56916 46.58514)              PACIFICORP       5.307700e+10   \n",
      "1  POINT (-117.16171 32.71568)                     NaN       6.073005e+09   \n",
      "2  POINT (-123.12802 44.09573)                     NaN       4.103900e+10   \n",
      "3  POINT (-120.56916 46.58514)              PACIFICORP       5.307700e+10   \n",
      "4   POINT (-122.18384 47.8031)  PUGET SOUND ENERGY INC       5.306105e+10   \n",
      "\n",
      "   Counties  Congressional Districts  \\\n",
      "0    2746.0                      4.0   \n",
      "1    1179.0                      NaN   \n",
      "2    2371.0                      NaN   \n",
      "3    2746.0                      4.0   \n",
      "4    3213.0                      1.0   \n",
      "\n",
      "   WAOFM - GIS - Legislative District Boundary  \n",
      "0                                         20.0  \n",
      "1                                          NaN  \n",
      "2                                          NaN  \n",
      "3                                         20.0  \n",
      "4                                          1.0  \n"
     ]
    }
   ],
   "source": [
    " #Displaying first few rows of the Dataframe\n",
    "\n",
    "print(df.head())   "
   ]
  },
  {
   "cell_type": "code",
   "execution_count": 3,
   "id": "9583912a",
   "metadata": {
    "scrolled": false
   },
   "outputs": [
    {
     "name": "stdout",
     "output_type": "stream",
     "text": [
      "<class 'pandas.core.frame.DataFrame'>\n",
      "RangeIndex: 124716 entries, 0 to 124715\n",
      "Data columns (total 20 columns):\n",
      " #   Column                                             Non-Null Count   Dtype  \n",
      "---  ------                                             --------------   -----  \n",
      " 0   VIN (1-10)                                         124716 non-null  object \n",
      " 1   County                                             124714 non-null  object \n",
      " 2   City                                               124714 non-null  object \n",
      " 3   State                                              124716 non-null  object \n",
      " 4   Postal Code                                        124714 non-null  float64\n",
      " 5   Model Year                                         124716 non-null  int64  \n",
      " 6   Make                                               124716 non-null  object \n",
      " 7   Model                                              124535 non-null  object \n",
      " 8   Electric Vehicle Type                              124716 non-null  object \n",
      " 9   Clean Alternative Fuel Vehicle (CAFV) Eligibility  124716 non-null  object \n",
      " 10  Electric Range                                     124716 non-null  int64  \n",
      " 11  Base MSRP                                          124716 non-null  int64  \n",
      " 12  Legislative District                               124419 non-null  float64\n",
      " 13  DOL Vehicle ID                                     124716 non-null  int64  \n",
      " 14  Vehicle Location                                   124687 non-null  object \n",
      " 15  Electric Utility                                   124243 non-null  object \n",
      " 16  2020 Census Tract                                  124714 non-null  float64\n",
      " 17  Counties                                           124281 non-null  float64\n",
      " 18  Congressional Districts                            124395 non-null  float64\n",
      " 19  WAOFM - GIS - Legislative District Boundary        124395 non-null  float64\n",
      "dtypes: float64(6), int64(4), object(10)\n",
      "memory usage: 19.0+ MB\n",
      "None\n"
     ]
    }
   ],
   "source": [
    "#Summary information of the DataFrame\n",
    "\n",
    "print(df.info()) "
   ]
  },
  {
   "cell_type": "code",
   "execution_count": 15,
   "id": "cc4537ca",
   "metadata": {
    "scrolled": false
   },
   "outputs": [
    {
     "name": "stdout",
     "output_type": "stream",
     "text": [
      "Number of null records in data: \n",
      " VIN (1-10)                                             0\n",
      "County                                                 2\n",
      "City                                                   2\n",
      "State                                                  0\n",
      "Postal Code                                            2\n",
      "Model Year                                             0\n",
      "Make                                                   0\n",
      "Model                                                181\n",
      "Electric Vehicle Type                                  0\n",
      "Clean Alternative Fuel Vehicle (CAFV) Eligibility      0\n",
      "Electric Range                                         0\n",
      "Base MSRP                                              0\n",
      "Legislative District                                 297\n",
      "DOL Vehicle ID                                         0\n",
      "Vehicle Location                                      29\n",
      "Electric Utility                                     473\n",
      "2020 Census Tract                                      2\n",
      "Counties                                             435\n",
      "Congressional Districts                              321\n",
      "WAOFM - GIS - Legislative District Boundary          321\n",
      "dtype: int64\n"
     ]
    }
   ],
   "source": [
    "#Checking total number of null values in each column\n",
    "\n",
    "print('Number of null records in data: \\n',df.isnull().sum()) "
   ]
  },
  {
   "cell_type": "markdown",
   "id": "ef941b06",
   "metadata": {},
   "source": [
    "Removing columns\n",
    "Electric Utility column as it has more null values and its not contrubuting to the analysis."
   ]
  },
  {
   "cell_type": "code",
   "execution_count": 25,
   "id": "6d7ebd45",
   "metadata": {},
   "outputs": [
    {
     "name": "stdout",
     "output_type": "stream",
     "text": [
      "Altered Dataframe:\n",
      "        VIN (1-10)     County         City State  Postal Code  Model Year  \\\n",
      "0       5YJ3E1EB4L     Yakima       Yakima    WA      98908.0        2020   \n",
      "1       5YJ3E1EA7K  San Diego    San Diego    CA      92101.0        2019   \n",
      "2       7JRBR0FL9M       Lane       Eugene    OR      97404.0        2021   \n",
      "3       5YJXCBE21K     Yakima       Yakima    WA      98908.0        2019   \n",
      "4       5UXKT0C5XH  Snohomish      Bothell    WA      98021.0        2017   \n",
      "...            ...        ...          ...   ...          ...         ...   \n",
      "124711  5YJ3E1EB6N  Snohomish       Monroe    WA      98272.0        2022   \n",
      "124712  KNDCM3LD2L     Pierce       Tacoma    WA      98406.0        2020   \n",
      "124713  7SAYGDEE0P    Whatcom   Bellingham    WA      98226.0        2023   \n",
      "124714  1G1FW6S03J     Pierce       Tacoma    WA      98444.0        2018   \n",
      "124715  1G1RC6E47F     Benton  Benton City    WA      99320.0        2015   \n",
      "\n",
      "             Make    Model                   Electric Vehicle Type  \\\n",
      "0           TESLA  MODEL 3          Battery Electric Vehicle (BEV)   \n",
      "1           TESLA  MODEL 3          Battery Electric Vehicle (BEV)   \n",
      "2           VOLVO      S60  Plug-in Hybrid Electric Vehicle (PHEV)   \n",
      "3           TESLA  MODEL X          Battery Electric Vehicle (BEV)   \n",
      "4             BMW       X5  Plug-in Hybrid Electric Vehicle (PHEV)   \n",
      "...           ...      ...                                     ...   \n",
      "124711      TESLA  MODEL 3          Battery Electric Vehicle (BEV)   \n",
      "124712        KIA     NIRO  Plug-in Hybrid Electric Vehicle (PHEV)   \n",
      "124713      TESLA  MODEL Y          Battery Electric Vehicle (BEV)   \n",
      "124714  CHEVROLET  BOLT EV          Battery Electric Vehicle (BEV)   \n",
      "124715  CHEVROLET     VOLT  Plug-in Hybrid Electric Vehicle (PHEV)   \n",
      "\n",
      "        Clean Alternative Fuel Vehicle (CAFV) Eligibility  Electric Range  \\\n",
      "0                 Clean Alternative Fuel Vehicle Eligible             322   \n",
      "1                 Clean Alternative Fuel Vehicle Eligible             220   \n",
      "2                   Not eligible due to low battery range              22   \n",
      "3                 Clean Alternative Fuel Vehicle Eligible             289   \n",
      "4                   Not eligible due to low battery range              14   \n",
      "...                                                   ...             ...   \n",
      "124711  Eligibility unknown as battery range has not b...               0   \n",
      "124712              Not eligible due to low battery range              26   \n",
      "124713  Eligibility unknown as battery range has not b...               0   \n",
      "124714            Clean Alternative Fuel Vehicle Eligible             238   \n",
      "124715            Clean Alternative Fuel Vehicle Eligible              38   \n",
      "\n",
      "        Base MSRP  Legislative District  DOL Vehicle ID  \\\n",
      "0               0                  14.0       127175366   \n",
      "1               0                   NaN       266614659   \n",
      "2               0                   NaN       144502018   \n",
      "3               0                  14.0       477039944   \n",
      "4               0                   1.0       106314946   \n",
      "...           ...                   ...             ...   \n",
      "124711          0                  39.0       192999061   \n",
      "124712          0                  27.0       113346250   \n",
      "124713          0                  42.0       232751305   \n",
      "124714          0                  29.0       102589007   \n",
      "124715          0                  16.0       476974718   \n",
      "\n",
      "                   Vehicle Location  2020 Census Tract  Counties  \\\n",
      "0       POINT (-120.56916 46.58514)       5.307700e+10    2746.0   \n",
      "1       POINT (-117.16171 32.71568)       6.073005e+09    1179.0   \n",
      "2       POINT (-123.12802 44.09573)       4.103900e+10    2371.0   \n",
      "3       POINT (-120.56916 46.58514)       5.307700e+10    2746.0   \n",
      "4        POINT (-122.18384 47.8031)       5.306105e+10    3213.0   \n",
      "...                             ...                ...       ...   \n",
      "124711   POINT (-121.98087 47.8526)       5.306105e+10    3213.0   \n",
      "124712  POINT (-122.52054 47.26887)       5.305306e+10    3210.0   \n",
      "124713   POINT (-122.49756 48.7999)       5.307300e+10    2744.0   \n",
      "124714  POINT (-122.46495 47.16778)       5.305307e+10    3210.0   \n",
      "124715  POINT (-119.48756 46.26543)       5.300501e+10    2955.0   \n",
      "\n",
      "        Congressional Districts  WAOFM - GIS - Legislative District Boundary  \n",
      "0                           4.0                                         20.0  \n",
      "1                           NaN                                          NaN  \n",
      "2                           NaN                                          NaN  \n",
      "3                           4.0                                         20.0  \n",
      "4                           1.0                                          1.0  \n",
      "...                         ...                                          ...  \n",
      "124711                      1.0                                         41.0  \n",
      "124712                      6.0                                         11.0  \n",
      "124713                      2.0                                         44.0  \n",
      "124714                     10.0                                         35.0  \n",
      "124715                      4.0                                         23.0  \n",
      "\n",
      "[124716 rows x 19 columns]\n"
     ]
    }
   ],
   "source": [
    "#Removing the columns that are not required\n",
    "\n",
    "import pandas as pd\n",
    "\n",
    "df = pd.read_csv('Vehdata.csv')\n",
    "dataframe = df.drop('Electric Utility', axis=1)\n",
    "\n",
    "print('Altered Dataframe:')\n",
    "print(dataframe)"
   ]
  },
  {
   "cell_type": "code",
   "execution_count": 28,
   "id": "2fd5db05",
   "metadata": {},
   "outputs": [
    {
     "name": "stdout",
     "output_type": "stream",
     "text": [
      "None\n"
     ]
    }
   ],
   "source": [
    "#Replacing all the null values with NA\n",
    "import pandas as pd\n",
    "\n",
    "\n",
    "print(dataframe.fillna('NA', inplace=True))\n"
   ]
  },
  {
   "cell_type": "markdown",
   "id": "ce7b75cd",
   "metadata": {},
   "source": [
    "Transforming the cleaned data to a new csv file"
   ]
  },
  {
   "cell_type": "code",
   "execution_count": 29,
   "id": "3b55e31f",
   "metadata": {},
   "outputs": [],
   "source": [
    "dataframe.to_csv('CleanVehData.csv', index=False)"
   ]
  },
  {
   "cell_type": "markdown",
   "id": "ed4e6fb9",
   "metadata": {},
   "source": [
    "Data Visualisation"
   ]
  },
  {
   "cell_type": "code",
   "execution_count": 9,
   "id": "51285db8",
   "metadata": {},
   "outputs": [
    {
     "name": "stdout",
     "output_type": "stream",
     "text": [
      "Defaulting to user installation because normal site-packages is not writeable\n",
      "Requirement already satisfied: matplotlib in c:\\programdata\\anaconda3\\lib\\site-packages (3.5.2)\n",
      "Requirement already satisfied: packaging>=20.0 in c:\\programdata\\anaconda3\\lib\\site-packages (from matplotlib) (21.3)\n",
      "Requirement already satisfied: kiwisolver>=1.0.1 in c:\\programdata\\anaconda3\\lib\\site-packages (from matplotlib) (1.4.2)\n",
      "Requirement already satisfied: fonttools>=4.22.0 in c:\\programdata\\anaconda3\\lib\\site-packages (from matplotlib) (4.25.0)\n",
      "Requirement already satisfied: pyparsing>=2.2.1 in c:\\programdata\\anaconda3\\lib\\site-packages (from matplotlib) (3.0.9)\n",
      "Requirement already satisfied: python-dateutil>=2.7 in c:\\programdata\\anaconda3\\lib\\site-packages (from matplotlib) (2.8.2)\n",
      "Requirement already satisfied: cycler>=0.10 in c:\\programdata\\anaconda3\\lib\\site-packages (from matplotlib) (0.11.0)\n",
      "Requirement already satisfied: numpy>=1.17 in c:\\programdata\\anaconda3\\lib\\site-packages (from matplotlib) (1.21.5)\n",
      "Requirement already satisfied: pillow>=6.2.0 in c:\\programdata\\anaconda3\\lib\\site-packages (from matplotlib) (9.2.0)\n",
      "Requirement already satisfied: six>=1.5 in c:\\programdata\\anaconda3\\lib\\site-packages (from python-dateutil>=2.7->matplotlib) (1.16.0)\n",
      "Note: you may need to restart the kernel to use updated packages.\n"
     ]
    }
   ],
   "source": [
    "pip install matplotlib\n"
   ]
  },
  {
   "cell_type": "markdown",
   "id": "15c60ead",
   "metadata": {},
   "source": [
    "Pie Chart"
   ]
  },
  {
   "cell_type": "code",
   "execution_count": 4,
   "id": "c27d2bea",
   "metadata": {},
   "outputs": [
    {
     "data": {
      "image/png": "[encoded data removed]",
      "text/plain": [
       "<Figure size 640x480 with 1 Axes>"
      ]
     },
     "metadata": {},
     "output_type": "display_data"
    }
   ],
   "source": [
    "#Visualising prominent data of each dataset\n",
    "import pandas as pd\n",
    "import matplotlib.pyplot as plt\n",
    "\n",
    "#loading CSV file\n",
    "df = pd.read_csv('CleanVehdata.csv')\n",
    "\n",
    "#Selecting specific values from each column to visualise\n",
    "value1 = df['Electric Vehicle Type'].loc[df['Electric Vehicle Type'] == 'Battery Electric Vehicle (BEV)'].count()\n",
    "value2 = df['Electric Vehicle Type'].loc[df['Electric Vehicle Type'] == 'Plug-in Hybrid Electric Vehicle (PHEV)'].count()\n",
    "\n",
    "\n",
    "values = [value1, value2]\n",
    "labels = ['Battery EV', 'Plug-in Hybrid EV']\n",
    "\n",
    "#=pie chart\n",
    "plt.pie(values, labels=labels, autopct='%1.1f%%')\n",
    "plt.title('EV type Usage in WA State')\n",
    "plt.show()"
   ]
  },
  {
   "cell_type": "markdown",
   "id": "9a4fa555",
   "metadata": {},
   "source": [
    "Bar Chart"
   ]
  },
  {
   "cell_type": "code",
   "execution_count": 22,
   "id": "185548cf",
   "metadata": {},
   "outputs": [
    {
     "data": {
      "image/png": "[encoded data removed]",
      "text/plain": [
       "<Figure size 640x480 with 1 Axes>"
      ]
     },
     "metadata": {},
     "output_type": "display_data"
    }
   ],
   "source": [
    "import pandas as pd\n",
    "import matplotlib.pyplot as plt\n",
    "\n",
    "# read data from csv file\n",
    "data = pd.read_csv('C:/Users/carol/DAPProject/CleanVehData.csv')\n",
    "\n",
    "# get the column names\n",
    "x_column = 'Model Year'\n",
    "y_column = 'Electric Range'\n",
    "\n",
    "# create bar chart\n",
    "plt.bar(data[x_column], data[y_column])\n",
    "\n",
    "# set the x-axis label\n",
    "plt.xlabel(x_column)\n",
    "\n",
    "# set the y-axis label\n",
    "plt.ylabel(y_column)\n",
    "\n",
    "# set the title of the chart\n",
    "plt.title('Bar chart for ' + x_column + ' and ' + y_column)\n",
    "\n",
    "# display the chart\n",
    "plt.show()\n"
   ]
  }
 ],
 "metadata": {
  "kernelspec": {
   "display_name": "Python 3 (ipykernel)",
   "language": "python",
   "name": "python3"
  },
  "language_info": {
   "codemirror_mode": {
    "name": "ipython",
    "version": 3
   },
   "file_extension": ".py",
   "mimetype": "text/x-python",
   "name": "python",
   "nbconvert_exporter": "python",
   "pygments_lexer": "ipython3",
   "version": "3.9.13"
  }
 },
 "nbformat": 4,
 "nbformat_minor": 5
}
