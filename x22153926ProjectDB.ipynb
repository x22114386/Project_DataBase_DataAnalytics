{
 "cells": [
  {
   "cell_type": "code",
   "execution_count": 1,
   "id": "dcee9528",
   "metadata": {},
   "outputs": [
    {
     "name": "stdout",
     "output_type": "stream",
     "text": [
      "Defaulting to user installation because normal site-packages is not writeable\n",
      "Requirement already satisfied: mysql-connector-python in c:\\users\\carol\\appdata\\roaming\\python\\python39\\site-packages (8.0.32)\n",
      "Requirement already satisfied: protobuf<=3.20.3,>=3.11.0 in c:\\users\\carol\\appdata\\roaming\\python\\python39\\site-packages (from mysql-connector-python) (3.20.3)\n",
      "Note: you may need to restart the kernel to use updated packages.\n"
     ]
    }
   ],
   "source": [
    "#Creating table for csv file using mysql \n",
    "#Installing Packages\n",
    "\n",
    "%pip install mysql-connector-python\n"
   ]
  },
  {
   "cell_type": "code",
   "execution_count": 1,
   "id": "e1c34714",
   "metadata": {},
   "outputs": [
    {
     "name": "stdout",
     "output_type": "stream",
     "text": [
      "Error while connecting to MySQL 1007 (HY000): Can't create database 'x22114386project'; database exists\n"
     ]
    }
   ],
   "source": [
    "#Importing the csv file into mysql to create a table\n",
    "\n",
    "import mysql.connector as msql\n",
    "from mysql.connector import Error\n",
    "try:\n",
    "    conn = msql.connect(host='127.0.0.1', user='root',\n",
    "    password='root')\n",
    "    if conn.is_connected():\n",
    "        cursor = conn.cursor()\n",
    "        cursor.execute(\"CREATE DATABASE X22114386Project\")\n",
    "        print(\"X22114386Project  database is created\")\n",
    "except Error as e:\n",
    "    print(\"Error while connecting to MySQL\", e)"
   ]
  },
  {
   "cell_type": "code",
   "execution_count": 2,
   "id": "7348ed93",
   "metadata": {},
   "outputs": [
    {
     "name": "stdout",
     "output_type": "stream",
     "text": [
      "You're connected to database.\n",
      "Creating table....\n",
      "ElectricVehicleData table is created....\n"
     ]
    }
   ],
   "source": [
    "#Creating new table name ElectricVehicleData to add the csv file \n",
    "\n",
    "import mysql.connector\n",
    "import csv\n",
    "\n",
    "ssh_key_path = \"C:/Users/carol/DAPProject/new.pem\"\n",
    "mypkey = paramiko.RSAKey.from_private_key_file(ssh_key_path)\n",
    "\n",
    "sql_hostname = '127.0.0.1'\n",
    "sql_username = 'root'\n",
    "sql_password = 'root'\n",
    "sql_main_database = 'X22114386Project'\n",
    "sql_port = 3306\n",
    "ssh_host = '87.44.4.70'\n",
    "ssh_user = 'debian'\n",
    "ssh_port = 22\n",
    "sql_ip = '0.0.0.0:0'\n",
    "\n",
    "tunnel = SSHTunnelForwarder((ssh_host, 22), ssh_pkey=mypkey, ssh_username=ssh_user,\n",
    "remote_bind_address=(sql_hostname, 3306))\n",
    "tunnel.start()\n",
    "\n",
    "conn = pymysql.connect(host='127.0.0.1', user='root', passwd='root', database='X22114386Project',port=tunnel.local_bind_port)\n",
    "\n",
    "if conn.is_connected():\n",
    " cursor = conn.cursor()\n",
    " cursor.execute(\"select database();\")\n",
    " record = cursor.fetchone()\n",
    " print(\"You're connected to database.\")\n",
    " cursor.execute('DROP TABLE IF EXISTS ElectricVehicleData;')  \n",
    " print('Creating table....')\n",
    "\n",
    " #creating table by inserting all the column names\n",
    " cursor.execute(\"CREATE TABLE ElectricVehicleData (VIN CHAR(50) NOT NULL, County CHAR(30) NOT NULL, City CHAR(30) NOT NULL, State CHAR(50) NOT NULL, Postal_Code CHAR(50) NOT NULL, Model_Year CHAR(30) NOT NULL, Make CHAR(50) NOT NULL, Model CHAR(50) NOT NULL, Electric_Vehicle_Type CHAR(100) NOT NULL, Clean_Alternative_Fuel_Vehicle_Eligibility CHAR(100) NOT NULL, Electric_Range CHAR(50) NOT NULL, Base_MSRP CHAR(50) NOT NULL, Legislative_District CHAR(50) NOT NULL, DOL_Vehicle_ID CHAR(50) NOT NULL, Vehicle_Location CHAR(50) NOT NULL, Electric_Utility CHAR(250) NOT NULL, 2020_Census_Tract CHAR(50) NOT NULL, Counties CHAR(50) NOT NULL, Congressional_Districts CHAR(50) NOT NULL, WAOFM_GIS CHAR(50) NOT NULL)\")\n",
    " print(\"ElectricVehicleData table is created....\")\n"
   ]
  },
  {
   "cell_type": "code",
   "execution_count": null,
   "id": "6e7e5b09",
   "metadata": {},
   "outputs": [],
   "source": [
    "import mysql.connector\n",
    "import csv\n",
    "\n",
    "ssh_key_path = \"C:/Users/carol/DAPProject/new.pem\"\n",
    "mypkey = paramiko.RSAKey.from_private_key_file(ssh_key_path)\n",
    "\n",
    "sql_hostname = '127.0.0.1'\n",
    "sql_username = 'root'\n",
    "sql_password = 'root'\n",
    "sql_main_database = 'X22114386Project'\n",
    "sql_port = 3306\n",
    "ssh_host = '87.44.4.70'\n",
    "ssh_user = 'debian'\n",
    "ssh_port = 22\n",
    "sql_ip = '0.0.0.0:0'\n",
    "\n",
    "tunnel = SSHTunnelForwarder((ssh_host, 22), ssh_pkey=mypkey, ssh_username=ssh_user,\n",
    "remote_bind_address=(sql_hostname, 3306))\n",
    "tunnel.start()\n",
    "conn = pymysql.connect(host='127.0.0.1', user='root', passwd='root', database='X22114386Project',port=tunnel.local_bind_port)\n",
    "\n",
    "\n",
    "with open('\"C:\\\\Users\\\\carol\\\\DAPProject\\\\ElectricVehdata.csv\"', 'r') as f:\n",
    "\n",
    "    reader = csv.reader(f)\n",
    "    next(reader) # skip the header row\n",
    "    for row in reader:\n",
    "\n",
    "        # Insert each row into the database\n",
    "        cursor = conn.cursor()\n",
    "        cursor.execute(\"INSERT INTO ElectricVehicleData (VIN, County, City, State, Postal_Code, Model_Year, Make, Model, Electric_Vehicle_Type, Clean_Alternative_Fuel_Vehicle_Eligibility, Electric_Range, Base_MSRP, Legislative_District, DOL_Vehicle_ID, Vehicle_Location, Electric_Utility, 2020_Census_Tract, Counties, Congressional_Districts, WAOFM_GIS) VALUES (%s, %s, %s, %s, %s, %s, %s, %s, %s, %s, %s, %s, %s, %s, %s, %s, %s, %s, %s, %s);\", (row[0], row[1], row[2], row[3], row[4], row[5], row[6], row[7], row[8], row[9], row[10], row[11], row[12], row[13], row[14], row[15], row[16], row[17], row[18], row[19]))\n",
    "        conn.commit()\n",
    "#Closing the database connection\n",
    "conn.close()"
   ]
  }
 ],
 "metadata": {
  "kernelspec": {
   "display_name": "Python 3 (ipykernel)",
   "language": "python",
   "name": "python3"
  },
  "language_info": {
   "codemirror_mode": {
    "name": "ipython",
    "version": 3
   },
   "file_extension": ".py",
   "mimetype": "text/x-python",
   "name": "python",
   "nbconvert_exporter": "python",
   "pygments_lexer": "ipython3",
   "version": "3.9.13"
  }
 },
 "nbformat": 4,
 "nbformat_minor": 5
}
