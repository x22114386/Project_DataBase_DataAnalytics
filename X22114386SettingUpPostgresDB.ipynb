{
 "cells": [
  {
   "attachments": {},
   "cell_type": "markdown",
   "metadata": {},
   "source": [
    "## This code gives the connectivity to postgress pipe line in case we are unable to Create a pipeline in dagster "
   ]
  },
  {
   "cell_type": "code",
   "execution_count": 4,
   "metadata": {},
   "outputs": [
    {
     "name": "stdout",
     "output_type": "stream",
     "text": [
      "Note: you may need to restart the kernel to use updated packages.\n"
     ]
    },
    {
     "name": "stderr",
     "output_type": "stream",
     "text": [
      "ERROR: unknown command \"conda\"\n",
      "\n"
     ]
    },
    {
     "name": "stdout",
     "output_type": "stream",
     "text": [
      "Requirement already satisfied: psycopg2-binary in c:\\users\\manu\\appdata\\local\\programs\\python\\python311\\lib\\site-packages (2.9.6)Note: you may need to restart the kernel to use updated packages.\n",
      "\n"
     ]
    },
    {
     "name": "stderr",
     "output_type": "stream",
     "text": [
      "\n",
      "[notice] A new release of pip available: 22.3.1 -> 23.1\n",
      "[notice] To update, run: python.exe -m pip install --upgrade pip\n"
     ]
    }
   ],
   "source": [
    "%pip conda install \n",
    "%pip install psycopg2-binary"
   ]
  },
  {
   "attachments": {},
   "cell_type": "markdown",
   "metadata": {},
   "source": [
    "First time set up for postgres SQL on creation of a database in postgresql"
   ]
  },
  {
   "cell_type": "code",
   "execution_count": 6,
   "metadata": {},
   "outputs": [
    {
     "name": "stdout",
     "output_type": "stream",
     "text": [
      "Error while connecting to PostgreSQL database \"project1sempostgres\" already exists\n",
      "\n"
     ]
    }
   ],
   "source": [
    "import psycopg2\n",
    "try:\n",
    " dbConnection = psycopg2.connect(\n",
    " user = \"dap\",\n",
    " password = \"dap\",\n",
    " host = \"87.44.4.70\",\n",
    " port = \"5432\",\n",
    " database = \"postgres\")\n",
    " dbConnection.set_isolation_level(0) # AUTOCOMMIT\n",
    " dbCursor = dbConnection.cursor()\n",
    " dbCursor.execute('CREATE DATABASE Project1SemPostgres;')\n",
    " print(\"The data base is created\")\n",
    " dbCursor.close()\n",
    "except (Exception, psycopg2.Error) as dbError :\n",
    " print (\"Error while connecting to PostgreSQL\",\n",
    "dbError)\n",
    "finally:\n",
    " if(dbConnection): dbConnection.close()"
   ]
  },
  {
   "attachments": {},
   "cell_type": "markdown",
   "metadata": {},
   "source": [
    "Creating Table in the database "
   ]
  },
  {
   "cell_type": "code",
   "execution_count": 11,
   "metadata": {},
   "outputs": [
    {
     "name": "stdout",
     "output_type": "stream",
     "text": [
      "Error while connecting to PostgreSQL relation \"pollutiontableindia\" already exists\n",
      "\n"
     ]
    }
   ],
   "source": [
    "createString = \"\"\"\n",
    "CREATE TABLE PollutionTableIndia(\n",
    " id integer,\n",
    " country VARCHAR(100) NOT NULL,\n",
    " state VARCHAR(100) NOT NULL,\n",
    " city VARCHAR(100) NOT NULL,\n",
    " station VARCHAR(100),\n",
    " last_update timestamp,\n",
    " pollutant_id VARCHAR(100),\n",
    " pollutant_min numeric(5,4),\n",
    " pollutant_max numeric(5,4),\n",
    " pollutant_avg numeric(5,4),\n",
    " pollutant_unit VARCHAR(100)\n",
    ");\n",
    "\"\"\"\n",
    "try:\n",
    " dbConnection = psycopg2.connect(\n",
    " user = \"dap\",\n",
    " password = \"dap\",\n",
    " host = \"87.44.4.70\",\n",
    " port = \"5432\",\n",
    " database = \"project1sempostgres\")\n",
    " dbConnection.set_isolation_level(0) # AUTOCOMMIT\n",
    " dbCursor = dbConnection.cursor()\n",
    " dbCursor.execute(createString)\n",
    " dbCursor.close()\n",
    "except (Exception, psycopg2.Error) as dbError :\n",
    " print (\"Error while connecting to PostgreSQL\",\n",
    "dbError)\n",
    "finally:\n",
    " if(dbConnection): dbConnection.close()"
   ]
  }
 ],
 "metadata": {
  "kernelspec": {
   "display_name": "Python 3",
   "language": "python",
   "name": "python3"
  },
  "language_info": {
   "codemirror_mode": {
    "name": "ipython",
    "version": 3
   },
   "file_extension": ".py",
   "mimetype": "text/x-python",
   "name": "python",
   "nbconvert_exporter": "python",
   "pygments_lexer": "ipython3",
   "version": "3.11.3"
  },
  "orig_nbformat": 4
 },
 "nbformat": 4,
 "nbformat_minor": 2
}
