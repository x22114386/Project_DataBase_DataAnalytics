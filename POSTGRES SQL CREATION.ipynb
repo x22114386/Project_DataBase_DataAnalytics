{
 "cells": [
  {
   "cell_type": "code",
   "execution_count": 1,
   "id": "a03770bd",
   "metadata": {},
   "outputs": [
    {
     "name": "stdout",
     "output_type": "stream",
     "text": [
      "Collecting psycopg2\n",
      "  Downloading psycopg2-2.9.6-cp310-cp310-win_amd64.whl (1.2 MB)\n",
      "     ---------------------------------------- 1.2/1.2 MB 304.5 kB/s eta 0:00:00\n",
      "Installing collected packages: psycopg2\n",
      "Successfully installed psycopg2-2.9.6\n",
      "Note: you may need to restart the kernel to use updated packages.\n"
     ]
    }
   ],
   "source": [
    "#Installing the module to connect to postgres\n",
    "\n",
    "%pip install psycopg2"
   ]
  },
  {
   "cell_type": "code",
   "execution_count": 2,
   "id": "84622135",
   "metadata": {},
   "outputs": [
    {
     "name": "stdout",
     "output_type": "stream",
     "text": [
      "Error while connecting to PostgreSQL database \"postgres\" already exists\n",
      "\n"
     ]
    }
   ],
   "source": [
    "#Creating the Database in postgresssql\n",
    "#Table created already in the server \n",
    "\n",
    "import psycopg2\n",
    "\n",
    "try:\n",
    " dbConnection = psycopg2.connect(user = \"dap\", password = \"dap\", host = \"87.44.4.70\", port = \"5432\", database = \"postgres\")\n",
    " \n",
    " dbConnection.set_isolation_level(0) # AUTOCOMMIT\n",
    " dbCursor = dbConnection.cursor()\n",
    "    \n",
    " dbCursor.execute('CREATE DATABASE postgres;')\n",
    " dbCursor.close()\n",
    "    \n",
    "except (Exception, psycopg2.Error) as dbError :\n",
    " print (\"Error while connecting to PostgreSQL\", dbError)\n",
    "\n",
    "finally:\n",
    " if(dbConnection): dbConnection.close()"
   ]
  },
  {
   "cell_type": "code",
   "execution_count": null,
   "id": "0e7c5237",
   "metadata": {},
   "outputs": [],
   "source": [
    "#Creating new table name ElectricVehicleData to add the csv file \n",
    "\n",
    "import mysql.connector\n",
    "import csv\n",
    "\n",
    "ssh_key_path = \"C:/Users/carol/DAPProject/new.pem\"\n",
    "mypkey = paramiko.RSAKey.from_private_key_file(ssh_key_path)\n",
    "\n",
    "sql_hostname = '127.0.0.1'\n",
    "sql_username = 'root'\n",
    "sql_password = 'root'\n",
    "sql_main_database = 'X22114386Project'\n",
    "sql_port = 3306\n",
    "ssh_host = '87.44.4.70'\n",
    "ssh_user = 'debian'\n",
    "ssh_port = 22\n",
    "sql_ip = '0.0.0.0:0'\n",
    "\n",
    "tunnel = SSHTunnelForwarder((ssh_host, 22), ssh_pkey=mypkey, ssh_username=ssh_user,\n",
    "remote_bind_address=(sql_hostname, 3306))\n",
    "tunnel.start()\n",
    "\n",
    "conn = pymysql.connect(host='127.0.0.1', user='root', passwd='root', database='X22114386Project',port=tunnel.local_bind_port)\n",
    "\n",
    "if conn.is_connected():\n",
    " cursor = conn.cursor()\n",
    " cursor.execute(\"select database();\")\n",
    " record = cursor.fetchone()\n",
    " print(\"You're connected to database.\")\n",
    " cursor.execute('DROP TABLE IF EXISTS ElectricVehicleData;')  \n",
    " print('Creating table....')\n",
    "#creating table by inserting all the column names\n",
    " cursor.execute(\"CREATE TABLE ElectricVehicleData (VIN CHAR(50) NOT NULL, County CHAR(30) NOT NULL, City CHAR(30) NOT NULL, State CHAR(50) NOT NULL, Postal_Code CHAR(50) NOT NULL, Model_Year CHAR(30) NOT NULL, Make CHAR(50) NOT NULL, Model CHAR(50) NOT NULL, Electric_Vehicle_Type CHAR(100) NOT NULL, Clean_Alternative_Fuel_Vehicle_Eligibility CHAR(100) NOT NULL, Electric_Range CHAR(50) NOT NULL, Base_MSRP CHAR(50) NOT NULL, Legislative_District CHAR(50) NOT NULL, DOL_Vehicle_ID CHAR(50) NOT NULL, Vehicle_Location CHAR(50) NOT NULL, Electric_Utility CHAR(250) NOT NULL, 2020_Census_Tract CHAR(50) NOT NULL, Counties CHAR(50) NOT NULL, Congressional_Districts CHAR(50) NOT NULL, WAOFM_GIS CHAR(50) NOT NULL)\")\n",
    " print(\"ElectricVehicleData table is created....\")\n"
   ]
  },
  {
   "cell_type": "code",
   "execution_count": null,
   "id": "84e055cf",
   "metadata": {},
   "outputs": [],
   "source": [
    "import mysql.connector\n",
    "import csv\n",
    "\n",
    "ssh_key_path = \"C:/Users/carol/DAPProject/new.pem\"\n",
    "mypkey = paramiko.RSAKey.from_private_key_file(ssh_key_path)\n",
    "\n",
    "sql_hostname = '127.0.0.1'\n",
    "sql_username = 'root'\n",
    "sql_password = 'root'\n",
    "sql_main_database = 'X22114386Project'\n",
    "sql_port = 3306\n",
    "ssh_host = '87.44.4.70'\n",
    "ssh_user = 'debian'\n",
    "ssh_port = 22\n",
    "sql_ip = '0.0.0.0:0'\n",
    "\n",
    "tunnel = SSHTunnelForwarder((ssh_host, 22), ssh_pkey=mypkey, ssh_username=ssh_user,\n",
    "remote_bind_address=(sql_hostname, 3306))\n",
    "tunnel.start()\n",
    "conn = pymysql.connect(host='127.0.0.1', user='root', passwd='root', database='X22114386Project',port=tunnel.local_bind_port)\n",
    "\n",
    "\n",
    "with open('\"C:\\\\Users\\\\carol\\\\DAPProject\\\\ElectricVehdata.csv\"', 'r') as f:\n",
    "\n",
    "    reader = csv.reader(f)\n",
    "    next(reader) # skip the header row\n",
    "    for row in reader:\n",
    "\n",
    "        # Insert each row into the database\n",
    "        cursor = conn.cursor()\n",
    "        cursor.execute(\"INSERT INTO ElectricVehicleData (VIN, County, City, State, Postal_Code, Model_Year, Make, Model, Electric_Vehicle_Type, Clean_Alternative_Fuel_Vehicle_Eligibility, Electric_Range, Base_MSRP, Legislative_District, DOL_Vehicle_ID, Vehicle_Location, Electric_Utility, 2020_Census_Tract, Counties, Congressional_Districts, WAOFM_GIS) VALUES (%s, %s, %s, %s, %s, %s, %s, %s, %s, %s, %s, %s, %s, %s, %s, %s, %s, %s, %s, %s);\", (row[0], row[1], row[2], row[3], row[4], row[5], row[6], row[7], row[8], row[9], row[10], row[11], row[12], row[13], row[14], row[15], row[16], row[17], row[18], row[19]))\n",
    "        conn.commit()\n",
    "        #Closing the database connection\n",
    "conn.close()"
   ]
  }
 ],
 "metadata": {
  "kernelspec": {
   "display_name": "Python 3 (ipykernel)",
   "language": "python",
   "name": "python3"
  },
  "language_info": {
   "codemirror_mode": {
    "name": "ipython",
    "version": 3
   },
   "file_extension": ".py",
   "mimetype": "text/x-python",
   "name": "python",
   "nbconvert_exporter": "python",
   "pygments_lexer": "ipython3",
   "version": "3.10.9"
  }
 },
 "nbformat": 4,
 "nbformat_minor": 5
}
