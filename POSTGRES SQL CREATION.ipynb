{
 "cells": [
  {
   "cell_type": "code",
   "execution_count": 1,
   "id": "24a6a50c",
   "metadata": {},
   "outputs": [
    {
     "name": "stdout",
     "output_type": "stream",
     "text": [
      "Requirement already satisfied: psycopg2 in c:\\users\\aksha\\personal\\anaconda\\lib\\site-packages (2.9.6)\n",
      "Note: you may need to restart the kernel to use updated packages.\n"
     ]
    }
   ],
   "source": [
    "#Installing the module to connect to postgres\n",
    "\n",
    "%pip install psycopg2"
   ]
  },
  {
   "cell_type": "code",
   "execution_count": 1,
   "id": "2aeb094b",
   "metadata": {},
   "outputs": [
    {
     "name": "stdout",
     "output_type": "stream",
     "text": [
      "Error while connecting to PostgreSQL database \"postgres\" already exists\n",
      "\n"
     ]
    }
   ],
   "source": [
    "#Creating the Database in postgresssql\n",
    "#Table created already in the server \n",
    "\n",
    "import psycopg2\n",
    "\n",
    "try:\n",
    " dbConnection = psycopg2.connect(user = \"dap\", password = \"dap\", host = \"87.44.4.70\", port = \"5432\", database = \"postgres\")\n",
    " \n",
    " dbConnection.set_isolation_level(0) # AUTOCOMMIT\n",
    " dbCursor = dbConnection.cursor()\n",
    "    \n",
    " dbCursor.execute('CREATE DATABASE postgres;')\n",
    " dbCursor.close()\n",
    "    \n",
    "except (Exception, psycopg2.Error) as dbError :\n",
    " print (\"Error while connecting to PostgreSQL\", dbError)\n",
    "\n",
    "finally:\n",
    " if(dbConnection): dbConnection.close()"
   ]
  },
  {
   "cell_type": "code",
   "execution_count": 15,
   "id": "68452b2a",
   "metadata": {
    "scrolled": true
   },
   "outputs": [
    {
     "name": "stdout",
     "output_type": "stream",
     "text": [
      "Creating table....\n",
      "TREEPLANTATION table created.\n"
     ]
    }
   ],
   "source": [
    "#Creating a table in postgres\n",
    "\n",
    "import psycopg2\n",
    "\n",
    "conn = psycopg2.connect(database=\"postgres\", user=\"dap\", password=\"dap\", host=\"87.44.4.70\", port=\"5432\")\n",
    "\n",
    "cur = conn.cursor()\n",
    " \n",
    "cur.execute('DROP TABLE IF EXISTS TREEPLANTATION;')  \n",
    "print('Creating table....')\n",
    "cur.execute(\"CREATE TABLE TREEPLANTATION(TreeID CHAR(250) NOT NULL, qLegalStatus CHAR(250) NOT NULL, qSpecies CHAR(250) NOT NULL, qAddress CHAR(250) NOT NULL, SiteOrder CHAR(250) NOT NULL, qSiteInfo CHAR(250) NOT NULL, PlantType CHAR(250) NOT NULL,  qCaretaker CHAR(250) NOT NULL, DBH CHAR(250) NOT NULL, PlotSize CHAR(250) NOT NULL, XCoord CHAR(250) NOT NULL, YCoord CHAR(250) NOT NULL, Latitude CHAR(250) NOT NULL, Longitude CHAR(250) NOT NULL, Fire_Prevention_Districts CHAR(254) NOT NULL, Police_Districts CHAR(250) NOT NULL, Supervisor_Districts CHAR(250) NOT NULL, Zip_Codes CHAR(250) NOT NULL, Neighborhoods_old CHAR(250) NOT NULL, Analysis_Neighborhoods CHAR(250) NOT NULL)\")\n",
    "\n",
    "print('TREEPLANTATION table created.')\n",
    "# Commit the transaction and close the cursor and connection\n",
    "conn.commit()\n",
    "cur.close()\n",
    "conn.close()"
   ]
  },
  {
   "cell_type": "code",
   "execution_count": 17,
   "id": "f06a1e29",
   "metadata": {},
   "outputs": [
    {
     "ename": "OperationalError",
     "evalue": "server closed the connection unexpectedly\n\tThis probably means the server terminated abnormally\n\tbefore or while processing the request.\nserver closed the connection unexpectedly\n\tThis probably means the server terminated abnormally\n\tbefore or while processing the request.\n",
     "output_type": "error",
     "traceback": [
      "\u001b[1;31m---------------------------------------------------------------------------\u001b[0m",
      "\u001b[1;31mOperationalError\u001b[0m                          Traceback (most recent call last)",
      "Cell \u001b[1;32mIn[17], line 24\u001b[0m\n\u001b[0;32m     21\u001b[0m         values_to_insert \u001b[39m=\u001b[39m (col[\u001b[39m0\u001b[39m], col[\u001b[39m1\u001b[39m], col[\u001b[39m2\u001b[39m], col[\u001b[39m3\u001b[39m], col[\u001b[39m4\u001b[39m], col[\u001b[39m5\u001b[39m], col[\u001b[39m6\u001b[39m], col[\u001b[39m7\u001b[39m], col[\u001b[39m8\u001b[39m], col[\u001b[39m9\u001b[39m], col[\u001b[39m10\u001b[39m], col[\u001b[39m11\u001b[39m], col[\u001b[39m12\u001b[39m], col[\u001b[39m13\u001b[39m], col[\u001b[39m14\u001b[39m], col[\u001b[39m15\u001b[39m], col[\u001b[39m16\u001b[39m], col[\u001b[39m17\u001b[39m], col[\u001b[39m18\u001b[39m], col[\u001b[39m19\u001b[39m])\n\u001b[0;32m     23\u001b[0m         \u001b[39m# Executing the INSERT statement\u001b[39;00m\n\u001b[1;32m---> 24\u001b[0m         cur\u001b[39m.\u001b[39;49mexecute(insert_statement, values_to_insert)\n\u001b[0;32m     26\u001b[0m \u001b[39mprint\u001b[39m(\u001b[39m'\u001b[39m\u001b[39mValues are inserted into the table.\u001b[39m\u001b[39m'\u001b[39m)\n\u001b[0;32m     27\u001b[0m \u001b[39m# Commit the transaction\u001b[39;00m\n",
      "\u001b[1;31mOperationalError\u001b[0m: server closed the connection unexpectedly\n\tThis probably means the server terminated abnormally\n\tbefore or while processing the request.\nserver closed the connection unexpectedly\n\tThis probably means the server terminated abnormally\n\tbefore or while processing the request.\n"
     ]
    }
   ],
   "source": [
    "#Inserting values into table in postgres\n",
    "\n",
    "import psycopg2\n",
    "import csv\n",
    "\n",
    "conn = psycopg2.connect(database=\"postgres\", user=\"dap\", password=\"dap\", host=\"87.44.4.70\", port=\"5432\")\n",
    "\n",
    "cur = conn.cursor()\n",
    "\n",
    "insert_statement = \"INSERT INTO TREEPLANTATION (TreeID, qLegalStatus, qSpecies, qAddress, SiteOrder, qSiteInfo, PlantType, qCaretaker, DBH,PlotSize, XCoord, YCoord, Latitude, Longitude, Fire_Prevention_Districts, Police_Districts, Supervisor_Districts, Zip_Codes, Neighborhoods_old, Analysis_Neighborhoods) VALUES (%s, %s, %s, %s, %s, %s, %s, %s, %s, %s, %s, %s, %s, %s, %s, %s, %s, %s,%s, %s)\"\n",
    "\n",
    "# Open the CSV file\n",
    "with open('TreeplantCleaned.csv', 'r') as csv_file:\n",
    "\n",
    "    csv_reader = csv.reader(csv_file, delimiter=',')\n",
    "\n",
    "    next(csv_reader)\n",
    "\n",
    "    for col in csv_reader:\n",
    "\n",
    "        values_to_insert = (col[0], col[1], col[2], col[3], col[4], col[5], col[6], col[7], col[8], col[9], col[10], col[11], col[12], col[13], col[14], col[15], col[16], col[17], col[18], col[19])\n",
    "        \n",
    "        # Executing the INSERT statement\n",
    "        cur.execute(insert_statement, values_to_insert)\n",
    "        \n",
    "print('Values are inserted into the table.')\n",
    "# Commit the transaction\n",
    "conn.commit()\n",
    "\n",
    "# Close the cursor and connection\n",
    "cur.close()\n",
    "conn.close() "
   ]
  }
 ],
 "metadata": {
  "kernelspec": {
   "display_name": "Python 3 (ipykernel)",
   "language": "python",
   "name": "python3"
  },
  "language_info": {
   "codemirror_mode": {
    "name": "ipython",
    "version": 3
   },
   "file_extension": ".py",
   "mimetype": "text/x-python",
   "name": "python",
   "nbconvert_exporter": "python",
   "pygments_lexer": "ipython3",
   "version": "3.10.9"
  }
 },
 "nbformat": 4,
 "nbformat_minor": 5
}
