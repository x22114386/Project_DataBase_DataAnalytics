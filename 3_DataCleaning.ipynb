{
 "cells": [
  {
   "attachments": {},
   "cell_type": "markdown",
   "id": "53593be8",
   "metadata": {},
   "source": [
    "# Data Cleaning"
   ]
  },
  {
   "cell_type": "code",
   "execution_count": 2,
   "id": "cb339ca9",
   "metadata": {},
   "outputs": [
    {
     "name": "stdout",
     "output_type": "stream",
     "text": [
      "Shape of data:  (155682, 19)\n"
     ]
    }
   ],
   "source": [
    "#Check total number of records\n",
    "import pandas as pd\n",
    "import numpy as np\n",
    "\n",
    "df = pd.read_csv('OUtput.csv')\n",
    "print('Shape of data: ', df.shape) "
   ]
  },
  {
   "cell_type": "code",
   "execution_count": 3,
   "id": "b061693f",
   "metadata": {},
   "outputs": [
    {
     "name": "stdout",
     "output_type": "stream",
     "text": [
      "      Reporting Period Project ID Project County Project City  Project ZIP  \\\n",
      "0  2021-09-30T00:00:00     469232          Lewis        Greig        13345   \n",
      "1  2021-09-30T00:00:00     490637         Broome      Nineveh        13813   \n",
      "2  2022-04-30T00:00:00     508135         Oswego       Oswego        13126   \n",
      "3  2022-04-30T00:00:00     536187     Livingston      Livonia        14487   \n",
      "4  2021-09-30T00:00:00     506124         Oneida         Rome        13440   \n",
      "\n",
      "  Gas Utility               Electric Utility Project Completion Date  \\\n",
      "0         NaN                  National Grid     2021-09-30T00:00:00   \n",
      "1         NaN  New York State Electric & Gas     2021-09-07T00:00:00   \n",
      "2         NaN                  National Grid     2022-04-05T00:00:00   \n",
      "3         NaN                  National Grid     2022-03-24T00:00:00   \n",
      "4         NaN                  National Grid     2021-08-17T00:00:00   \n",
      "\n",
      "   Total Project Cost Pre-Retrofit Home Heating Fuel Type Year Home Built  \\\n",
      "0                3904                            Kerosene            1871   \n",
      "1                2210                                 Oil            1976   \n",
      "2                6080                             Propane            1872   \n",
      "3                7035                             Propane             NaN   \n",
      "4                6578                               Other             NaN   \n",
      "\n",
      "  Size Of Home  Number Of Units          Job Type Type Of Dwelling  \\\n",
      "0        1,800              1.0  Home Performance    Single Family   \n",
      "1        2,642              1.0  Home Performance    Single Family   \n",
      "2        1,392              1.0  Home Performance    Single Family   \n",
      "3        1,188              1.0  Home Performance           Mobile   \n",
      "4        1,314              1.0  Home Performance    Single Family   \n",
      "\n",
      "     Measure Type  Estimated Annual kWh Savings  \\\n",
      "0  Building Shell                             0   \n",
      "1  Building Shell                           510   \n",
      "2  Building Shell                           656   \n",
      "3  Building Shell                             0   \n",
      "4  Building Shell                           301   \n",
      "\n",
      "   Estimated Annual MMBtu Savings  \\\n",
      "0                              14   \n",
      "1                               4   \n",
      "2                               8   \n",
      "3                              20   \n",
      "4                              22   \n",
      "\n",
      "   First Year Modeled Project Energy Savings $ Estimate  \n",
      "0                                                348     \n",
      "1                                                151     \n",
      "2                                                192     \n",
      "3                                                546     \n",
      "4                                                280     \n"
     ]
    }
   ],
   "source": [
    "# Viewing top rows of the DataFrame\n",
    "\n",
    "print(df.head())"
   ]
  },
  {
   "cell_type": "code",
   "execution_count": 4,
   "id": "cdb57bf2",
   "metadata": {},
   "outputs": [
    {
     "name": "stdout",
     "output_type": "stream",
     "text": [
      "Number of null records in data: \n",
      " Reporting Period                                            0\n",
      "Project ID                                                  0\n",
      "Project County                                              0\n",
      "Project City                                                0\n",
      "Project ZIP                                                 0\n",
      "Gas Utility                                             46986\n",
      "Electric Utility                                           56\n",
      "Project Completion Date                                     0\n",
      "Total Project Cost                                          0\n",
      "Pre-Retrofit Home Heating Fuel Type                         0\n",
      "Year Home Built                                         74822\n",
      "Size Of Home                                                0\n",
      "Number Of Units                                             4\n",
      "Job Type                                                    0\n",
      "Type Of Dwelling                                            0\n",
      "Measure Type                                                0\n",
      "Estimated Annual kWh Savings                                0\n",
      "Estimated Annual MMBtu Savings                              0\n",
      "First Year Modeled Project Energy Savings $ Estimate        0\n",
      "dtype: int64\n"
     ]
    }
   ],
   "source": [
    "#Check number of null values in each column\n",
    "\n",
    "print('Number of null records in data: \\n', df.isnull().sum())"
   ]
  },
  {
   "cell_type": "code",
   "execution_count": 5,
   "id": "cfa4f0e5",
   "metadata": {},
   "outputs": [
    {
     "name": "stdout",
     "output_type": "stream",
     "text": [
      "Altered Dataframe:\n",
      "           Reporting Period Project ID Project County Project City  \\\n",
      "0       2021-09-30T00:00:00     469232          Lewis        Greig   \n",
      "1       2021-09-30T00:00:00     490637         Broome      Nineveh   \n",
      "2       2022-04-30T00:00:00     508135         Oswego       Oswego   \n",
      "3       2022-04-30T00:00:00     536187     Livingston      Livonia   \n",
      "4       2021-09-30T00:00:00     506124         Oneida         Rome   \n",
      "...                     ...        ...            ...          ...   \n",
      "155677  2023-02-28T00:00:00     376962           Erie      Buffalo   \n",
      "155678  2023-02-28T00:00:00     328413          Kings     Brooklyn   \n",
      "155679  2023-02-28T00:00:00     348059          Bronx        Bronx   \n",
      "155680  2023-02-28T00:00:00     367656         Queens       Queens   \n",
      "155681  2023-02-28T00:00:00     355533           Erie      Buffalo   \n",
      "\n",
      "        Project ZIP                     Gas Utility  \\\n",
      "0             13345                             NaN   \n",
      "1             13813                             NaN   \n",
      "2             13126                             NaN   \n",
      "3             14487                             NaN   \n",
      "4             13440                             NaN   \n",
      "...             ...                             ...   \n",
      "155677        14212  National Fuel Gas Distribution   \n",
      "155678        11208                   National Grid   \n",
      "155679        10461                             NaN   \n",
      "155680        11432             Consolidated Edison   \n",
      "155681        14211  National Fuel Gas Distribution   \n",
      "\n",
      "                     Electric Utility Project Completion Date  \\\n",
      "0                       National Grid     2021-09-30T00:00:00   \n",
      "1       New York State Electric & Gas     2021-09-07T00:00:00   \n",
      "2                       National Grid     2022-04-05T00:00:00   \n",
      "3                       National Grid     2022-03-24T00:00:00   \n",
      "4                       National Grid     2021-08-17T00:00:00   \n",
      "...                               ...                     ...   \n",
      "155677  New York State Electric & Gas     2018-12-14T00:00:00   \n",
      "155678            Consolidated Edison     2018-03-27T00:00:00   \n",
      "155679            Consolidated Edison     2018-03-28T00:00:00   \n",
      "155680            Consolidated Edison     2018-09-27T00:00:00   \n",
      "155681                  National Grid     2018-05-29T00:00:00   \n",
      "\n",
      "        Total Project Cost Pre-Retrofit Home Heating Fuel Type Size Of Home  \\\n",
      "0                     3904                            Kerosene        1,800   \n",
      "1                     2210                                 Oil        2,642   \n",
      "2                     6080                             Propane        1,392   \n",
      "3                     7035                             Propane        1,188   \n",
      "4                     6578                               Other        1,314   \n",
      "...                    ...                                 ...          ...   \n",
      "155677                4845                         Natural Gas        1,888   \n",
      "155678                4707                         Natural Gas          800   \n",
      "155679                5399                                 Oil        1,300   \n",
      "155680                5839                         Natural Gas        1,280   \n",
      "155681                5294                         Natural Gas        1,330   \n",
      "\n",
      "        Number Of Units          Job Type Type Of Dwelling    Measure Type  \\\n",
      "0                   1.0  Home Performance    Single Family  Building Shell   \n",
      "1                   1.0  Home Performance    Single Family  Building Shell   \n",
      "2                   1.0  Home Performance    Single Family  Building Shell   \n",
      "3                   1.0  Home Performance           Mobile  Building Shell   \n",
      "4                   1.0  Home Performance    Single Family  Building Shell   \n",
      "...                 ...               ...              ...             ...   \n",
      "155677              1.0  Home Performance    Single Family  Building Shell   \n",
      "155678              1.0  Home Performance    Single Family  Building Shell   \n",
      "155679              1.0  Home Performance    Single Family  Building Shell   \n",
      "155680              1.0  Home Performance    Single Family  Building Shell   \n",
      "155681              1.0  Home Performance    Single Family  Building Shell   \n",
      "\n",
      "        Estimated Annual kWh Savings  Estimated Annual MMBtu Savings  \\\n",
      "0                                  0                              14   \n",
      "1                                510                               4   \n",
      "2                                656                               8   \n",
      "3                                  0                              20   \n",
      "4                                301                              22   \n",
      "...                              ...                             ...   \n",
      "155677                           158                              31   \n",
      "155678                           169                              53   \n",
      "155679                           679                              27   \n",
      "155680                           510                              34   \n",
      "155681                           208                              32   \n",
      "\n",
      "        First Year Modeled Project Energy Savings $ Estimate  \n",
      "0                                                     348     \n",
      "1                                                     151     \n",
      "2                                                     192     \n",
      "3                                                     546     \n",
      "4                                                     280     \n",
      "...                                                   ...     \n",
      "155677                                                320     \n",
      "155678                                                742     \n",
      "155679                                                584     \n",
      "155680                                                664     \n",
      "155681                                                335     \n",
      "\n",
      "[155682 rows x 18 columns]\n"
     ]
    }
   ],
   "source": [
    "# The column \"Year Home Built\" can be removed since it has multiple null values\n",
    "\n",
    "df = pd.read_csv('Output.csv')\n",
    "dataframe = df.drop('Year Home Built', axis=1)\n",
    "\n",
    "print('Altered Dataframe:')\n",
    "print(dataframe)"
   ]
  },
  {
   "cell_type": "code",
   "execution_count": 6,
   "id": "72e4d59e",
   "metadata": {},
   "outputs": [
    {
     "name": "stdout",
     "output_type": "stream",
     "text": [
      "None\n"
     ]
    }
   ],
   "source": [
    "# Replacing empty values with NA\n",
    "\n",
    "print(dataframe.fillna('NA', inplace=True))"
   ]
  },
  {
   "cell_type": "code",
   "execution_count": 7,
   "id": "3d67988b",
   "metadata": {},
   "outputs": [],
   "source": [
    "# Generating new csv file with cleaned data\n",
    "dataframe.to_csv('CleanedEnergyEfficiency.csv', index=False)"
   ]
  }
 ],
 "metadata": {
  "kernelspec": {
   "display_name": "Python 3 (ipykernel)",
   "language": "python",
   "name": "python3"
  },
  "language_info": {
   "codemirror_mode": {
    "name": "ipython",
    "version": 3
   },
   "file_extension": ".py",
   "mimetype": "text/x-python",
   "name": "python",
   "nbconvert_exporter": "python",
   "pygments_lexer": "ipython3",
   "version": "3.10.9"
  }
 },
 "nbformat": 4,
 "nbformat_minor": 5
}
