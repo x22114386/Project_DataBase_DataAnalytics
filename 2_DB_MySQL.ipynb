{
 "cells": [
  {
   "cell_type": "code",
   "execution_count": null,
   "metadata": {},
   "outputs": [],
   "source": [
    "%pip install mysql-connector-python\n",
    "%pip install pymysql\n",
    "%pip install pandas"
   ]
  },
  {
   "attachments": {},
   "cell_type": "markdown",
   "id": "a12519a8",
   "metadata": {},
   "source": [
    "# Connecting DB in the Debian server through MySQL"
   ]
  },
  {
   "cell_type": "code",
   "execution_count": null,
   "id": "3e9da82c",
   "metadata": {},
   "outputs": [],
   "source": [
    "import mysql.connector as msql\n",
    "from mysql.connector import Error\n",
    "import csv\n",
    "\n",
    "try:\n",
    "    conn = msql.connect(\n",
    "       host=\"localhost\", \n",
    "       database=\"x22105522DB\", \n",
    "       user=\"root\", \n",
    "       password=\"Karthika@31\"\n",
    "    )\n",
    "    if conn.is_connected():\n",
    "      cursor = conn.cursor()\n",
    "      cursor.execute(\"select database();\")\n",
    "      record = cursor.fetchone()\n",
    "\n",
    "      print(\"You're connected to database: \", record)\n",
    "      cursor.execute('DROP TABLE IF EXISTS EnergyEfficiencyProject;')\n",
    "\n",
    "      print('Creating table....')\n",
    "      cursor.execute(\"CREATE TABLE EnergyEfficiencyProject (Reporting_Period CHAR(30) NOT NULL, Project_ID CHAR(30) NOT NULL, Project_County CHAR(30) NOT NULL, Project_City CHAR(30) NOT NULL, Project_ZIP CHAR(30) NOT NULL, Gas_Utility CHAR(30) NOT NULL, Electric_Utility CHAR(30) NOT NULL, Project_Completion_Date CHAR(30) NOT NULL, Total_Project_Cost CHAR(30) NOT NULL, Heating_FuelType CHAR(30) NOT NULL, Year_Home_Built CHAR(250) NOT NULL, Size_Of_Home CHAR(30) NOT NULL, Number_Of_Units CHAR(30) NOT NULL, Job_Type CHAR(30) NOT NULL, Type_Of_Dwelling CHAR(30) NOT NULL, Measure_Type CHAR(30) NOT NULL, Annual_Savings_kWh CHAR(30) NOT NULL, Annual_Savings_MMBtu CHAR(30) NOT NULL, Energy_Savings CHAR(30) NOT NULL)\")\n",
    "      print(\"EnergyEfficiencyProject table is created....\")\n",
    "\n",
    "except Error as e:\n",
    "    print(\"Error while connecting to MySQL\", e)\n",
    "\n",
    "# INSERT DATA INTO THE TABLE EnergyEfficiencyProject\n",
    "\n",
    "# Open the CSV file and read its contents\n",
    "with open('CleanedEnergyEfficiency.csv', 'r') as f:\n",
    "    reader = csv.reader(f)\n",
    "    next(reader) # skip the header row\n",
    "    for row in reader:\n",
    "        \n",
    "        #Insert each row into the database\n",
    "        cursor = conn.cursor()\n",
    "        cursor.execute(\"INSERT INTO EnergyEfficiencyProject (Reporting_Period, Project_ID, Project_County, Project_City, Project_ZIP, Gas_Utility, Electric_Utility, Project_Completion_Date, Total_Project_Cost, Heating_FuelType, Year_Home_Built, Size_Of_Home, Number_Of_Units, Job_Type, Type_Of_Dwelling, Measure_Type, Annual_Savings_kWh, Annual_Savings_MMBtu, Energy_Savings) VALUES (%s, %s, %s,%s, %s, %s,%s, %s, %s,%s, %s, %s,%s, %s, %s,%s, %s, %s,%s);\", (row[0], row[1], row[2],row[3],row[4],row[5],row[6],row[7],row[8],row[9],row[10],row[11],row[12],row[13],row[14],row[15],row[16],row[17],row[18]))\n",
    "        conn.commit()\n",
    "        print(\"Table inserted...\")\n",
    "\n",
    "# Close the database connection\n",
    "conn.close()"
   ]
  }
 ],
 "metadata": {
  "language_info": {
   "name": "python"
  }
 },
 "nbformat": 4,
 "nbformat_minor": 5
}
