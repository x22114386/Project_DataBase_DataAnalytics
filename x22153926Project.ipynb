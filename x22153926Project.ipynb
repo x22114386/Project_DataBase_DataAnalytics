{
 "cells": [
  {
   "cell_type": "code",
   "execution_count": 1,
   "id": "ac7d13d0",
   "metadata": {},
   "outputs": [
    {
     "name": "stdout",
     "output_type": "stream",
     "text": [
      "[{'id': -1, 'name': 'sid', 'dataTypeName': 'meta_data', 'fieldName': ':sid', 'position': 0, 'renderTypeName': 'meta_data', 'format': {}, 'flags': ['hidden']}, {'id': -1, 'name': 'id', 'dataTypeName': 'meta_data', 'fieldName': ':id', 'position': 0, 'renderTypeName': 'meta_data', 'format': {}, 'flags': ['hidden']}, {'id': -1, 'name': 'position', 'dataTypeName': 'meta_data', 'fieldName': ':position', 'position': 0, 'renderTypeName': 'meta_data', 'format': {}, 'flags': ['hidden']}, {'id': -1, 'name': 'created_at', 'dataTypeName': 'meta_data', 'fieldName': ':created_at', 'position': 0, 'renderTypeName': 'meta_data', 'format': {}, 'flags': ['hidden']}, {'id': -1, 'name': 'created_meta', 'dataTypeName': 'meta_data', 'fieldName': ':created_meta', 'position': 0, 'renderTypeName': 'meta_data', 'format': {}, 'flags': ['hidden']}, {'id': -1, 'name': 'updated_at', 'dataTypeName': 'meta_data', 'fieldName': ':updated_at', 'position': 0, 'renderTypeName': 'meta_data', 'format': {}, 'flags': ['hidden']}, {'id': -1, 'name': 'updated_meta', 'dataTypeName': 'meta_data', 'fieldName': ':updated_meta', 'position': 0, 'renderTypeName': 'meta_data', 'format': {}, 'flags': ['hidden']}, {'id': -1, 'name': 'meta', 'dataTypeName': 'meta_data', 'fieldName': ':meta', 'position': 0, 'renderTypeName': 'meta_data', 'format': {}, 'flags': ['hidden']}, {'id': 561974342, 'name': 'VIN (1-10)', 'dataTypeName': 'text', 'description': \"The 1st 10 characters of each vehicle's Vehicle Identification Number (VIN).\", 'fieldName': 'vin_1_10', 'position': 1, 'renderTypeName': 'text', 'tableColumnId': 79309982, 'format': {}}, {'id': 561974343, 'name': 'County', 'dataTypeName': 'text', 'description': 'The county in which the registered owner resides.', 'fieldName': 'county', 'position': 2, 'renderTypeName': 'text', 'tableColumnId': 79309981, 'format': {}}, {'id': 561974344, 'name': 'City', 'dataTypeName': 'text', 'description': 'The city in which the registered owner resides.', 'fieldName': 'city', 'position': 3, 'renderTypeName': 'text', 'tableColumnId': 79309980, 'format': {}}, {'id': 561974345, 'name': 'State', 'dataTypeName': 'text', 'description': 'The state in which the registered owner resides.', 'fieldName': 'state', 'position': 4, 'renderTypeName': 'text', 'tableColumnId': 80218820, 'format': {}}, {'id': 561974346, 'name': 'Postal Code', 'dataTypeName': 'text', 'description': 'The 5 digit zip code in which the registered owner resides.', 'fieldName': 'zip_code', 'position': 5, 'renderTypeName': 'text', 'tableColumnId': 79309971, 'format': {}}, {'id': 561974347, 'name': 'Model Year', 'dataTypeName': 'text', 'description': 'The model year of the vehicle, determined by decoding the Vehicle Identification Number (VIN).', 'fieldName': 'model_year', 'position': 6, 'renderTypeName': 'text', 'tableColumnId': 79309970, 'format': {}}, {'id': 561974348, 'name': 'Make', 'dataTypeName': 'text', 'description': 'The manufacturer of the vehicle, determined by decoding the Vehicle Identification Number (VIN).', 'fieldName': 'make', 'position': 7, 'renderTypeName': 'text', 'tableColumnId': 79309979, 'format': {}}, {'id': 561974349, 'name': 'Model', 'dataTypeName': 'text', 'description': 'The model of the vehicle, determined by decoding the Vehicle Identification Number (VIN).', 'fieldName': 'model', 'position': 8, 'renderTypeName': 'text', 'tableColumnId': 79309978, 'format': {}}, {'id': 561974350, 'name': 'Electric Vehicle Type', 'dataTypeName': 'text', 'description': 'This distinguishes the vehicle as all electric or a plug-in hybrid.', 'fieldName': 'ev_type', 'position': 9, 'renderTypeName': 'text', 'tableColumnId': 79309976, 'format': {'align': 'right'}}, {'id': 561974351, 'name': 'Clean Alternative Fuel Vehicle (CAFV) Eligibility', 'dataTypeName': 'text', 'description': 'This categorizes vehicle as Clean Alternative Fuel Vehicles (CAFVs) based on the fuel requirement and electric-only range requirement in House Bill 2042 as passed in the 2019 legislative session.', 'fieldName': 'cafv_type', 'position': 10, 'renderTypeName': 'text', 'tableColumnId': 79309975, 'format': {'align': 'right'}}, {'id': 561974352, 'name': 'Electric Range', 'dataTypeName': 'number', 'description': 'Describes how far a vehicle can travel purely on its electric charge.', 'fieldName': 'electric_range', 'position': 11, 'renderTypeName': 'number', 'tableColumnId': 79309974, 'format': {'align': 'right'}}, {'id': 561974353, 'name': 'Base MSRP', 'dataTypeName': 'number', 'description': \"This is the lowest Manufacturer's Suggested Retail Price (MSRP) for any trim level of the model in question.\", 'fieldName': 'base_msrp', 'position': 12, 'renderTypeName': 'number', 'tableColumnId': 79310342, 'format': {'align': 'right'}}, {'id': 561974354, 'name': 'Legislative District', 'dataTypeName': 'number', 'description': \"The specific section of Washington State that the vehicle's owner resides in, as represented in the state legislature.\", 'fieldName': 'legislative_district', 'position': 13, 'renderTypeName': 'number', 'tableColumnId': 140620854, 'format': {'align': 'center'}}, {'id': 561974355, 'name': 'DOL Vehicle ID', 'dataTypeName': 'text', 'description': 'Unique number assigned to each vehicle by Department of Licensing for identification purposes.', 'fieldName': 'dol_vehicle_id', 'position': 14, 'renderTypeName': 'text', 'tableColumnId': 82051518, 'format': {}}, {'id': 561974356, 'name': 'Vehicle Location', 'dataTypeName': 'point', 'description': 'The center of the ZIP Code for the registered vehicle.', 'fieldName': 'geocoded_column', 'position': 15, 'renderTypeName': 'point', 'tableColumnId': 87270515, 'format': {}}, {'id': 561974358, 'name': 'Electric Utility', 'dataTypeName': 'text', 'description': 'This is the electric power retail service territories serving the address of the registered vehicle. All ownership types for areas in Washington are included: federal, investor owned, municipal, political subdivision, and cooperative. If the address for the registered vehicle falls into an area with overlapping electric power retail service territories then a single pipe | delimits utilities of same TYPE and a double pipe || delimits utilities of different types. We combined vehicle address and Homeland Infrastructure Foundation Level Database (HIFLD) (https://gii.dhs.gov/HIFLD) Retail_Service_Territories feature layer using a geographic information system to assign values for this field. Blanks occur for vehicles with addresses outside of Washington or for addresses falling into areas in Washington not containing a mapped electric power retail service territory in the source data.', 'fieldName': 'electric_utility', 'position': 17, 'renderTypeName': 'text', 'tableColumnId': 141400529, 'format': {}}, {'id': 561974362, 'name': '2020 Census Tract', 'dataTypeName': 'text', 'description': 'The census tract identifier is a combination of the state, county, and census tract codes as assigned by the United States Census Bureau in the 2020 census, also known as Geographic Identifier (GEOID).   More information can be found here:    https://www.census.gov/programs-surveys/geography/about/glossary.html#par_textimage_13   https://www.census.gov/programs-surveys/geography/guidance/geo-identifiers.html ', 'fieldName': '_2020_census_tract', 'position': 18, 'renderTypeName': 'text', 'tableColumnId': 142655072, 'format': {}}, {'id': 561974360, 'name': 'Counties', 'dataTypeName': 'number', 'description': '', 'fieldName': ':@computed_region_x4ys_rtnd', 'position': 19, 'renderTypeName': 'number', 'tableColumnId': 87270516, 'computationStrategy': {'source_columns': ['geocoded_column'], 'type': 'georegion_match_on_point', 'parameters': {'region': '_x4ys-rtnd', 'primary_key': '_feature_id'}}, 'format': {}}, {'id': 561974361, 'name': 'Congressional Districts', 'dataTypeName': 'number', 'description': '', 'fieldName': ':@computed_region_fny7_vc3j', 'position': 20, 'renderTypeName': 'number', 'tableColumnId': 87270517, 'computationStrategy': {'source_columns': ['geocoded_column'], 'type': 'georegion_match_on_point', 'parameters': {'region': '_fny7-vc3j', 'primary_key': '_feature_id'}}, 'format': {}}, {'id': 561974359, 'name': 'WAOFM - GIS - Legislative District Boundary', 'dataTypeName': 'number', 'description': '', 'fieldName': ':@computed_region_8ddd_yn5v', 'position': 21, 'renderTypeName': 'number', 'tableColumnId': 87270518, 'computationStrategy': {'source_columns': ['geocoded_column'], 'type': 'georegion_match_on_point', 'parameters': {'region': '_8ddd-yn5v', 'primary_key': '_feature_id'}}, 'format': {}}]\n"
     ]
    }
   ],
   "source": [
    "#importing json data\n",
    "#fetching the JSON data through the API link \n",
    "\n",
    "import requests\n",
    "import pandas as pd\n",
    "from requests.api import head\n",
    "import json\n",
    "\n",
    "#fetching json data\n",
    "response = requests.get('https://data.wa.gov/api/views/f6w7-q2d2/rows.json?accessType=DOWNLOAD')\n",
    "json_data = response.json()\n",
    "\n",
    "columns = json_data['meta']['view']['columns']\n",
    "columns_to_exclude = 8\n",
    "print(columns) "
   ]
  },
  {
   "cell_type": "code",
   "execution_count": 3,
   "id": "773d7a44",
   "metadata": {},
   "outputs": [],
   "source": [
    "#converting json data to csv\n",
    "\n",
    "import requests\n",
    "import pandas as pd\n",
    "from requests.api import head\n",
    "import json\n",
    "import csv\n",
    "\n",
    "#fetching json data\n",
    "response = requests.get('https://data.wa.gov/api/views/f6w7-q2d2/rows.json?accessType=DOWNLOAD')\n",
    "json_data = response.json()\n",
    "\n",
    "columns = json_data['meta']['view']['columns']\n",
    "columns_to_exclude = 8\n",
    "#print(columns)\n",
    "\n",
    "rows = json_data['data']\n",
    "\n",
    "# Extract column names from metadata\n",
    "with open('Vehdata.csv', 'w', newline='', encoding='utf-8') as csvfile:\n",
    "    fieldnames = [col['name'] for col in columns][columns_to_exclude:]  \n",
    "    writer = csv.writer(csvfile)\n",
    "    writer.writerow(fieldnames)\n",
    "\n",
    "    # Write rows to the CSV file\n",
    "    for row in rows:\n",
    "        writer.writerow(row[columns_to_exclude:])"
   ]
  },
  {
   "cell_type": "code",
   "execution_count": null,
   "id": "8045828a",
   "metadata": {},
   "outputs": [],
   "source": []
  }
 ],
 "metadata": {
  "kernelspec": {
   "display_name": "Python 3 (ipykernel)",
   "language": "python",
   "name": "python3"
  },
  "language_info": {
   "codemirror_mode": {
    "name": "ipython",
    "version": 3
   },
   "file_extension": ".py",
   "mimetype": "text/x-python",
   "name": "python",
   "nbconvert_exporter": "python",
   "pygments_lexer": "ipython3",
   "version": "3.9.13"
  }
 },
 "nbformat": 4,
 "nbformat_minor": 5
}
