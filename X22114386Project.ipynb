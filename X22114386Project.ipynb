{
 "cells": [
  {
   "attachments": {},
   "cell_type": "markdown",
   "id": "9dfbac34",
   "metadata": {},
   "source": []
  },
  {
   "cell_type": "markdown",
   "id": "d0d87b56",
   "metadata": {},
   "source": [
    "# This Code snippet below is based on the Real time Air Quality Index from various locations in INDIA\n",
    "\n",
    "ORG is \"Ministry of Environment, Forest and Climate Change\", \"Central Pollution Control Board\"\n",
    "sector is \"Environment and Forest\", \"Vehicular Air Pollution\",\"Residential Air Pollution\", and \"Industrial Air Pollution\"."
   ]
  },
  {
   "attachments": {},
   "cell_type": "markdown",
   "id": "61b6fa0f",
   "metadata": {},
   "source": [
    "## This file consist of\n",
    "01. Triggering the open API \n",
    "02. Extracting the Json Output to a CSV file in the local path \n",
    "The output file is competation.csv"
   ]
  },
  {
   "cell_type": "markdown",
   "id": "3d7b137d",
   "metadata": {},
   "source": [
    "Step01: installing supporting libraries"
   ]
  },
  {
   "cell_type": "code",
   "execution_count": 31,
   "id": "19271b5c",
   "metadata": {},
   "outputs": [
    {
     "name": "stderr",
     "output_type": "stream",
     "text": [
      "'pip3' is not recognized as an internal or external command,\n",
      "operable program or batch file.\n",
      "'pip3' is not recognized as an internal or external command,\n",
      "operable program or batch file.\n"
     ]
    }
   ],
   "source": [
    "!pip3 install requests\n",
    "!pip3 install jsonpath-ng\n"
   ]
  },
  {
   "cell_type": "markdown",
   "id": "6eb4e5a9",
   "metadata": {},
   "source": [
    "Function to verify whether the json object have inner array of data "
   ]
  },
  {
   "cell_type": "code",
   "execution_count": 32,
   "id": "41005902",
   "metadata": {},
   "outputs": [],
   "source": [
    "def getCsvKeylist(data, keys, list, parent):\n",
    "    # Check if key has inner JSON\n",
    "    for key in keys:\n",
    "        if isinstance(data.get(key), dict):\n",
    "            # Inner JSON found!\n",
    "            childData = data.get(key)\n",
    "            childKeys = childData.keys()\n",
    "            if parent:\n",
    "                key = parent + \".\" + key\n",
    "            # Recursive call for inner json      \n",
    "            getCsvKeylist(childData, childKeys, list, key)\n",
    "            \n",
    "        else:\n",
    "            if parent: \n",
    "                key = parent + \".\" + key\n",
    "            list.append(key)\n",
    "        \n",
    "    return list"
   ]
  },
  {
   "attachments": {},
   "cell_type": "markdown",
   "id": "431d35a2",
   "metadata": {},
   "source": [
    "This Function identifies the child data in an recurssive order and lists all the child tree structure in the Json "
   ]
  },
  {
   "cell_type": "code",
   "execution_count": 33,
   "id": "d97464d5",
   "metadata": {},
   "outputs": [],
   "source": [
    "def getCsvDataRow(data, keyData, keys, list):\n",
    "    # We need to pass the keyData, to iterate over all the keys which may not present in the current data\n",
    "    for key in keys:\n",
    "        if isinstance(keyData.get(key), dict):\n",
    "            # Inner JSON found for key data!\n",
    "            childKeyData = keyData.get(key)\n",
    "            childKeys = childKeyData.keys()\n",
    "\n",
    "            # Inner json for actual data\n",
    "            childData = \"\"\n",
    "            if data:\n",
    "                childData = data.get(key)\n",
    "\n",
    "            # Recursive call for inner json      \n",
    "            getCsvDataRow(childData, childKeyData, childKeys, list)\n",
    "            \n",
    "        else:\n",
    "            if data:\n",
    "                list.append(data.get(key))\n",
    "            else:\n",
    "                list.append(\"\")     \n",
    "        \n",
    "    return list"
   ]
  },
  {
   "cell_type": "code",
   "execution_count": 34,
   "id": "481c506b",
   "metadata": {},
   "outputs": [],
   "source": [
    "from jsonpath_ng import parse\n",
    "\n",
    "\n",
    "def getValueFromJsonPath(jsonData, jsonPath):\n",
    "    jsonPathExpression = \"$.\" + jsonPath\n",
    "    expr = parse(jsonPathExpression)\n",
    "    jsonValue = \"\"\n",
    "    # Use the expression to get the value of the path from the JSON data\n",
    "    match = expr.find(jsonData)\n",
    "    if match:\n",
    "        jsonValue = match[0].value\n",
    "\n",
    "    return jsonValue "
   ]
  },
  {
   "attachments": {},
   "cell_type": "markdown",
   "id": "2631705b",
   "metadata": {},
   "source": [
    "This Functions hits the open API and verify whether the API is successful or not and check for the child \"RECORDS\" in the JSON   "
   ]
  },
  {
   "cell_type": "code",
   "execution_count": 35,
   "id": "fb87108c",
   "metadata": {},
   "outputs": [],
   "source": [
    "import requests\n",
    "import json\n",
    "\n",
    "def getJsonPayloadFromApi():\n",
    "   # headers = {'X-Auth-Token': '579b464db66ec23bdd0000017789d1ca79674d856cd0d050548fe535' }\n",
    "    url = 'https://api.data.gov.in/resource/3b01bcb8-0b14-4abf-b6f2-c1bfd384ba69?api-key=579b464db66ec23bdd0000017789d1ca79674d856cd0d050548fe535&format=json&offset=0&filters[country]=India&limit=1000'\n",
    "\n",
    "    # Send request to the API\n",
    "    #response = requests.get(url, headers=headers)\n",
    "    response = requests.get(url)\n",
    "    \n",
    "    # Check if the request was successful\n",
    "    if response.ok:\n",
    "        # Convert response to JSON and take competitions\n",
    "        return json.loads(response.text).get(\"records\")           \n",
    "\n",
    "    else:\n",
    "        print(f'Request failed with status code {response.status_code}')\n"
   ]
  },
  {
   "attachments": {},
   "cell_type": "markdown",
   "id": "26d1640d",
   "metadata": {},
   "source": [
    "In Case the API fails fetch the prepopulated data that is already existing in this path as the text file."
   ]
  },
  {
   "cell_type": "code",
   "execution_count": 36,
   "id": "abd47975",
   "metadata": {},
   "outputs": [],
   "source": [
    "import json\n",
    "\n",
    "def getJsonPayloadFromFile():\n",
    "\n",
    "    # Provide correct json file path,\n",
    "    filePath ='C:/Users/Manu/Downloads/StudiesNCI/MichealBrad_DB/projects/JsonPayload.txt'\n",
    "    with open(filePath, 'r') as f:\n",
    "        response = f.read()\n",
    "    return json.loads(response).get(\"records\")  "
   ]
  },
  {
   "attachments": {},
   "cell_type": "markdown",
   "id": "c099b6a8",
   "metadata": {},
   "source": [
    "Once the data is fetched through API or a file write the data to competation.csv file in the location where this file is stored.\n",
    "Each time the old competation.csv file is deleted and a new file with the data is created "
   ]
  },
  {
   "cell_type": "code",
   "execution_count": 37,
   "id": "feeca644",
   "metadata": {},
   "outputs": [
    {
     "name": "stdout",
     "output_type": "stream",
     "text": [
      "['id', 'country', 'state', 'city', 'station', 'last_update', 'pollutant_id', 'pollutant_min', 'pollutant_max', 'pollutant_avg', 'pollutant_unit']\n",
      "Caught exception <class 'PermissionError'> with message [Errno 13] Permission denied: 'competitions.csv'\n",
      "Traceback:\n"
     ]
    },
    {
     "name": "stderr",
     "output_type": "stream",
     "text": [
      "  File \"C:\\Users\\Manu\\AppData\\Local\\Temp\\ipykernel_8332\\3814445019.py\", line 36, in <module>\n",
      "    with open('competitions.csv', 'w', encoding='utf-8', newline='') as file:\n",
      "         ^^^^^^^^^^^^^^^^^^^^^^^^^^^^^^^^^^^^^^^^^^^^^^^^^^^^^^^^^^^\n",
      "  File \"C:\\Users\\Manu\\AppData\\Roaming\\Python\\Python311\\site-packages\\IPython\\core\\interactiveshell.py\", line 284, in _modified_open\n",
      "    return io_open(file, *args, **kwargs)\n",
      "           ^^^^^^^^^^^^^^^^^^^^^^^^^^^^^^\n"
     ]
    }
   ],
   "source": [
    "import json\n",
    "import csv\n",
    "import traceback\n",
    "import sys\n",
    "\n",
    "\n",
    "try:\n",
    "\n",
    "    # Change method to read from API or file, and also update the corresponding methods with correct path or url\n",
    "    competitionsData = getJsonPayloadFromApi()\n",
    "    # competitionsData = getJsonPayloadFromFile()\n",
    "\n",
    "    if competitionsData is not None:\n",
    "        # Convert response to JSON and take competitions\n",
    "        \n",
    "        # Get CSV header columns\n",
    "        # For getting key data, take a competition json from reponse having all the expected keys\n",
    "        #keyData = '{\"id\":2022,\"area\":{\"id\":2016,\"name\":\"Austria\",\"code\":\"AUT\",\"flag\":\"https:\\/\\/crests.football-data.org\\/816.svg\"},\"name\":\"Playoffs 1\\/2\",\"code\":\"APL\",\"type\":\"PLAYOFFS\",\"emblem\":null,\"plan\":\"TIER_TWO\",\"currentSeason\":{\"id\":24,\"startDate\":\"2018-05-31\",\"endDate\":\"2018-06-03\",\"currentMatchday\":null,\"winner\":{\"id\":2022,\"name\":\"spusu SKN St. P\\u00f6lten\",\"shortName\":\"St. P\\u00f6lten\",\"tla\":\"STP\",\"crest\":\"https:\\/\\/crests.football-data.org\\/2022.svg\",\"address\":\"Bimbo Binder Promenade 9 Sankt P\\u00f6lten 3100\",\"website\":\"http:\\/\\/www.skn-stpoelten.at\",\"founded\":2000,\"clubColors\":\"Yellow \\/ Blue\",\"venue\":\"NV Arena\",\"lastUpdated\":\"2021-05-22T07:53:43Z\"}},\"numberOfAvailableSeasons\":1,\"lastUpdated\":\"2018-08-23T15:47:33Z\"}'\n",
    "        keyData= '{\"id\":\"1\",\"country\": \"India\",\"state\": \"Andhra_Pradesh\",\"city\": \"Amaravati\",\"station\": \"Secretariat, Amaravati - APPCB\",\"last_update\": \"09-04-2023 05:00:00\",\"pollutant_id\": \"PM2.5\",\"pollutant_min\": \"12\",\"pollutant_max\": \"54\",\"pollutant_avg\": \"30\",\"pollutant_unit\": \"NA\"}'\n",
    "        keyDataJson = json.loads(keyData)\n",
    "        keys = keyDataJson.keys()\n",
    "        csvKeys = getCsvKeylist(keyDataJson, keys, [], \"\")\n",
    "        print(csvKeys)\n",
    "        \n",
    "        # Get CSV datas\n",
    "        csvData = []\n",
    "        for competition in competitionsData:\n",
    "            competitionValues = []\n",
    "            \n",
    "            #Get each data row for competition\n",
    "            csvRow = getCsvDataRow(competition, keyDataJson, keys, [])\n",
    "            csvData.append(csvRow)\n",
    "        # print(csvData)\n",
    "\n",
    "        # Open a new CSV file and write the header row\n",
    "        with open('competitions.csv', 'w', encoding='utf-8', newline='') as file:\n",
    "            writer = csv.DictWriter(file, fieldnames = csvKeys)\n",
    "            writer.writeheader()\n",
    "\n",
    "        # Write data rows to the same CSV file\n",
    "        with open('competitions.csv', 'a', encoding='utf-8', newline='') as file:\n",
    "            writer = csv.writer(file)\n",
    "            writer.writerows(csvData)\n",
    "\n",
    "        print(\"Data has been written to competitions.csv\")\n",
    "\n",
    "    else:\n",
    "        print('Did not get the json data')\n",
    "\n",
    "except Exception as e:\n",
    "    exc_type, exc_value, exc_traceback = sys.exc_info()\n",
    "    print(f\"Caught exception {exc_type} with message {e}\")\n",
    "    print(\"Traceback:\")\n",
    "    traceback.print_tb(exc_traceback)\n",
    "\n",
    "\n"
   ]
  },
  {
   "cell_type": "code",
   "execution_count": null,
   "id": "fa6a131c",
   "metadata": {},
   "outputs": [],
   "source": []
  }
 ],
 "metadata": {
  "kernelspec": {
   "display_name": "Python 3 (ipykernel)",
   "language": "python",
   "name": "python3"
  },
  "language_info": {
   "codemirror_mode": {
    "name": "ipython",
    "version": 3
   },
   "file_extension": ".py",
   "mimetype": "text/x-python",
   "name": "python",
   "nbconvert_exporter": "python",
   "pygments_lexer": "ipython3",
   "version": "3.11.3"
  }
 },
 "nbformat": 4,
 "nbformat_minor": 5
}
