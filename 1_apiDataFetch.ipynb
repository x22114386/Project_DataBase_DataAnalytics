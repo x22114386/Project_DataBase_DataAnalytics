{
 "cells": [
  {
   "cell_type": "markdown",
   "id": "80d9269c",
   "metadata": {},
   "source": [
    "# Fetch Data through API"
   ]
  },
  {
   "cell_type": "code",
   "execution_count": 2,
   "id": "f769d180",
   "metadata": {},
   "outputs": [],
   "source": [
    "import requests\n",
    "import json\n",
    "import csv\n",
    "import pandas as pd\n",
    "from requests.api import head\n",
    "\n",
    "url = 'https://data.ny.gov/api/views/4a2x-yp8g/rows.json?accessType=DOWNLOAD'\n",
    "headers = { \n",
    "    'Accept': 'application/json', \n",
    "    'Content-Type': 'application/json'\n",
    "}\n",
    "\n",
    "#API call to get records\n",
    "response = requests.request(\"GET\", url, headers=headers,data={})\n",
    "decoded_data = response.text.encode().decode('utf-8-sig')\n",
    "data = json.loads(decoded_data)\n",
    "\n",
    "#API result\n",
    "columns = data['meta']['view']['columns']\n",
    "rows = data['data']\n",
    "excluded_columns = 8"
   ]
  },
  {
   "cell_type": "markdown",
   "id": "a4d6ff6f",
   "metadata": {},
   "source": [
    "# Convert JSON data to CSV format"
   ]
  },
  {
   "cell_type": "code",
   "execution_count": 5,
   "id": "2e1a429b",
   "metadata": {},
   "outputs": [],
   "source": [
    "# Save to a csv file\n",
    "with open('Output.csv', 'w', newline='', encoding='utf-8') as outputFile:\n",
    "    fieldnames = [column['name'] for column in columns][excluded_columns:27] # Extract column names from metadata\n",
    "    writer = csv.writer(outputFile)\n",
    "    writer.writerow(fieldnames)\n",
    "    # Write rows to the CSV file\n",
    "    for row in rows:\n",
    "        #print(row)\n",
    "        writer.writerow(row[excluded_columns:27])   "
   ]
  },
  {
   "attachments": {},
   "cell_type": "markdown",
   "id": "0196394f",
   "metadata": {},
   "source": [
    "# Replace null values with NA"
   ]
  },
  {
   "cell_type": "code",
   "execution_count": 4,
   "id": "c56eef6e",
   "metadata": {},
   "outputs": [],
   "source": [
    "csv_data = pd.read_csv('Output.csv')\n",
    "csv_data.fillna('NA', inplace=True)\n",
    "csv_data.to_csv('CleanedOutput.csv', index=False)"
   ]
  }
 ],
 "metadata": {
  "kernelspec": {
   "display_name": "Python 3 (ipykernel)",
   "language": "python",
   "name": "python3"
  },
  "language_info": {
   "codemirror_mode": {
    "name": "ipython",
    "version": 3
   },
   "file_extension": ".py",
   "mimetype": "text/x-python",
   "name": "python",
   "nbconvert_exporter": "python",
   "pygments_lexer": "ipython3",
   "version": "3.9.13"
  }
 },
 "nbformat": 4,
 "nbformat_minor": 5
}
