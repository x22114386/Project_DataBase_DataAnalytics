{
 "cells": [
  {
   "cell_type": "code",
   "execution_count": 1,
   "id": "33f4d573",
   "metadata": {},
   "outputs": [
    {
     "name": "stdout",
     "output_type": "stream",
     "text": [
      "Collecting mysql-connector-pythonNote: you may need to restart the kernel to use updated packages.\n",
      "\n",
      "  Downloading mysql_connector_python-8.0.33-cp310-cp310-win_amd64.whl (9.6 MB)\n",
      "     ---------------------------------------- 9.6/9.6 MB 665.9 kB/s eta 0:00:00\n",
      "Collecting protobuf<=3.20.3,>=3.11.0\n",
      "  Downloading protobuf-3.20.3-cp310-cp310-win_amd64.whl (904 kB)\n",
      "     ------------------------------------ 904.0/904.0 kB 381.5 kB/s eta 0:00:00\n",
      "Installing collected packages: protobuf, mysql-connector-python\n",
      "Successfully installed mysql-connector-python-8.0.33 protobuf-3.20.3\n"
     ]
    }
   ],
   "source": [
    "#Creating table for csv file using mysql \n",
    "#Installing Packages\n",
    "\n",
    "%pip install mysql-connector-python"
   ]
  },
  {
   "cell_type": "code",
   "execution_count": 2,
   "id": "186a9157",
   "metadata": {},
   "outputs": [
    {
     "name": "stdout",
     "output_type": "stream",
     "text": [
      "Error while connecting to MySQL 2003 (HY000): Can't connect to MySQL server on '127.0.0.1:3306' (10061)\n"
     ]
    }
   ],
   "source": [
    "#Importing the csv file into mysql to create a table\n",
    "\n",
    "import mysql.connector as msql\n",
    "from mysql.connector import Error\n",
    "try:\n",
    "    conn = msql.connect(host='127.0.0.1', user='root',\n",
    "    password='root')\n",
    "    if conn.is_connected():\n",
    "        cursor = conn.cursor()\n",
    "        cursor.execute(\"CREATE DATABASE X22114386Project\")\n",
    "        print(\"X22114386Project  database is created\")\n",
    "except Error as e:\n",
    "    print(\"Error while connecting to MySQL\", e)"
   ]
  },
  {
   "cell_type": "code",
   "execution_count": null,
   "id": "0a316d01",
   "metadata": {},
   "outputs": [],
   "source": [
    "#Creating new table name TREEPLANTATION to add the csv file \n",
    "\n",
    "import mysql.connector\n",
    "import csv\n",
    "\n",
    "ssh_key_path = \"C:/Users/aksha/Downloads/new.pem\"\n",
    "mypkey = paramiko.RSAKey.from_private_key_file(ssh_key_path)\n",
    "\n",
    "sql_hostname = '127.0.0.1'\n",
    "sql_username = 'root'\n",
    "sql_password = 'root'\n",
    "sql_main_database = 'X22114386Project'\n",
    "sql_port = 3306\n",
    "ssh_host = '87.44.4.70'\n",
    "ssh_user = 'debian'\n",
    "ssh_port = 22\n",
    "sql_ip = '0.0.0.0:0'\n",
    "\n",
    "tunnel = SSHTunnelForwarder((ssh_host, 22), ssh_pkey=mypkey, ssh_username=ssh_user,\n",
    "remote_bind_address=(sql_hostname, 3306))\n",
    "tunnel.start()\n",
    "\n",
    "conn = pymysql.connect(host='127.0.0.1', user='root', passwd='root', database='X22114386Project',port=tunnel.local_bind_port)\n",
    "\n",
    "if conn.is_connected():\n",
    " cursor = conn.cursor()\n",
    " cursor.execute(\"select database();\")\n",
    " record = cursor.fetchone()\n",
    " print(\"You're connected to database.\")\n",
    " cursor.execute('DROP TABLE IF EXISTS TREEPLANTATION;')  \n",
    " print('Creating table....')\n",
    "\n",
    " #creating table by inserting all the column names\n",
    " cursor.execute(\"CREATE TABLE TREEPLANTATION ( TreeID CHAR(250) NOT NULL, qLegalStatus CHAR(250) NOT NULL, qSpecies CHAR(250) NOT NULL, qAddress CHAR(250) NOT NULL ,SiteOrder CHAR(250) NOT NULL, qSiteInfo CHAR(250) NOT NULL, PlantType CHAR(250) NOT NULL , qCaretaker CHAR(250) NOT NULL ,DBH CHAR(250) NOT NULL ,PlotSize CHAR(250) NOT NULL ,XCoord CHAR(250) NOT NULL ,YCoord CHAR(250) NOT NULL ,Latitude CHAR(250) NOT NULL ,Longitude CHAR(250) NOT NULL ,Fire Prevention Districts CHAR(250) NOT NULL ,Police Districts CHAR(250) NOT NULL ,Supervisor Districts CHAR(250) NOT NULL ,Zip Codes CHAR(250) NOT NULL ,Neighborhoods (old) CHAR(250) NOT NULL ,Analysis Neighborhoods CHAR(250) NOT NULL) \") \n",
    " print(\"ElectricVehicleData table is created....\") "
   ]
  },
  {
   "cell_type": "code",
   "execution_count": null,
   "id": "3e764ce0",
   "metadata": {},
   "outputs": [],
   "source": [
    "import mysql.connector\n",
    "import csv\n",
    "\n",
    "ssh_key_path = \"C:\\Users\\aksha\\Downloads\\new.pem\"\n",
    "mypkey = paramiko.RSAKey.from_private_key_file(ssh_key_path)\n",
    "\n",
    "sql_hostname = '127.0.0.1'\n",
    "sql_username = 'root'\n",
    "sql_password = 'root'\n",
    "sql_main_database = 'X22114386Project'\n",
    "sql_port = 3306\n",
    "ssh_host = '87.44.4.70'\n",
    "ssh_user = 'debian'\n",
    "ssh_port = 22\n",
    "sql_ip = '0.0.0.0:0'\n",
    "\n",
    "tunnel = SSHTunnelForwarder((ssh_host, 22), ssh_pkey=mypkey, ssh_username=ssh_user,\n",
    "remote_bind_address=(sql_hostname, 3306))\n",
    "tunnel.start()\n",
    "conn = pymysql.connect(host='127.0.0.1', user='root', passwd='root', database='X22114386Project',port=tunnel.local_bind_port)\n",
    "\n",
    "\n",
    "with open('\"C:\\Users\\aksha\\PERSONAL\\DATA_ANALYTICS\\DAP\\TreeplantCleaned.csv\"', 'r') as f: \n",
    "\n",
    "    reader = csv.reader(f)\n",
    "    next(reader) # skip the header row\n",
    "    for row in reader:\n",
    "\n",
    "        # Insert each row into the database\n",
    "        cursor = conn.cursor()\n",
    "        cursor.execute(\"INSERT INTO TREEPLANTATION ( TreeID,qLegalStatus,qSpecies,qAddress,SiteOrder,qSiteInfo,PlantType,qCaretaker,DBH,PlotSize,XCoord,YCoord,Latitude,Longitude,Fire Prevention Districts, Police Districts, Supervisor Districts. Zip Codes, Neighborhoods (old), Analysis Neighborhoods\n",
    ") VALUES (%s, %s, %s, %s, %s, %s, %s, %s, %s, %s, %s, %s, %s, %s, %s, %s, %s, %s, %s, %s);\", (row[0], row[1], row[2], row[3], row[4], row[5], row[6], row[7], row[8], row[9], row[10], row[11], row[12], row[13], row[14], row[15], row[16], row[17], row[18], row[19]))\n",
    "        conn.commit()\n",
    "#Closing the database connection\n",
    "conn.close() "
   ]
  }
 ],
 "metadata": {
  "kernelspec": {
   "display_name": "Python 3 (ipykernel)",
   "language": "python",
   "name": "python3"
  },
  "language_info": {
   "codemirror_mode": {
    "name": "ipython",
    "version": 3
   },
   "file_extension": ".py",
   "mimetype": "text/x-python",
   "name": "python",
   "nbconvert_exporter": "python",
   "pygments_lexer": "ipython3",
   "version": "3.10.9"
  }
 },
 "nbformat": 4,
 "nbformat_minor": 5
}
