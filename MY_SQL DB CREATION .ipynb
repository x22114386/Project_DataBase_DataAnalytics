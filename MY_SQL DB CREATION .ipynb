{
 "cells": [
  {
   "cell_type": "code",
   "execution_count": 1,
   "id": "5b92282f",
   "metadata": {},
   "outputs": [
    {
     "name": "stdout",
     "output_type": "stream",
     "text": [
      "Requirement already satisfied: mysql-connector-python in c:\\users\\manu\\anaconda3\\lib\\site-packages (8.0.32)\n",
      "Requirement already satisfied: protobuf<=3.20.3,>=3.11.0 in c:\\users\\manu\\anaconda3\\lib\\site-packages (from mysql-connector-python) (3.20.0)\n",
      "Note: you may need to restart the kernel to use updated packages.\n"
     ]
    }
   ],
   "source": [
    "#Creating table for csv file using mysql \n",
    "#Installing Packages\n",
    "\n",
    "%pip install mysql-connector-python"
   ]
  },
  {
   "cell_type": "code",
   "execution_count": 2,
   "id": "152fda47",
   "metadata": {},
   "outputs": [
    {
     "name": "stdout",
     "output_type": "stream",
     "text": [
      "Error while connecting to MySQL 2003 (HY000): Can't connect to MySQL server on '127.0.0.1:3306' (10061)\n"
     ]
    }
   ],
   "source": [
    "#Importing the csv file into mysql to create a table\n",
    "\n",
    "import mysql.connector as msql\n",
    "from mysql.connector import Error\n",
    "try:\n",
    "    conn = msql.connect(host='127.0.0.1', user='root',\n",
    "    password='root')\n",
    "    if conn.is_connected():\n",
    "        cursor = conn.cursor()\n",
    "        cursor.execute(\"CREATE DATABASE X22114386Project\")\n",
    "        print(\"X22114386Project  database is created\")\n",
    "except Error as e:\n",
    "    print(\"Error while connecting to MySQL\", e)"
   ]
  },
  {
   "cell_type": "code",
   "execution_count": 2,
   "id": "dab8ee7d",
   "metadata": {},
   "outputs": [
    {
     "name": "stdout",
     "output_type": "stream",
     "text": [
      "You're connected to database.\n",
      "Creating table....\n",
      "ElectricVehicleData table is created....\n"
     ]
    }
   ],
   "source": [
    "#Creating new table name ElectricVehicleData to add the csv file \n",
    "from mysql.connector import Error\n",
    "import paramiko\n",
    "import pymysql\n",
    "from sshtunnel import SSHTunnelForwarder\n",
    "import csv\n",
    "import mysql.connector\n",
    "import csv\n",
    "\n",
    "ssh_key_path = \"C:/Users/Manu/Downloads/StudiesNCI/MichealBrad_DB/projects/DataBase_And_Analytics_Project/new.pem\"\n",
    "mypkey = paramiko.RSAKey.from_private_key_file(ssh_key_path)\n",
    "\n",
    "sql_hostname = '127.0.0.1'\n",
    "sql_username = 'root'\n",
    "sql_password = 'root'\n",
    "sql_main_database = 'X22114386Project'\n",
    "sql_port = 3306\n",
    "ssh_host = '87.44.4.70'\n",
    "ssh_user = 'debian'\n",
    "ssh_port = 22\n",
    "sql_ip = '0.0.0.0:0'\n",
    "\n",
    "tunnel = SSHTunnelForwarder((ssh_host, 22), ssh_pkey=mypkey, ssh_username=ssh_user,\n",
    "remote_bind_address=(sql_hostname, 3306))\n",
    "tunnel.start()\n",
    "\n",
    "conn = pymysql.connect(host='127.0.0.1', user='root', passwd='root', database='X22114386Project',port=tunnel.local_bind_port)\n",
    "\n",
    "#if conn.is_connected():\n",
    "cursor = conn.cursor()\n",
    "cursor.execute(\"select database();\")\n",
    "record = cursor.fetchone()\n",
    "print(\"You're connected to database.\")\n",
    "cursor.execute('DROP TABLE IF EXISTS TREEPLANTATION;')  \n",
    "print('Creating table....')\n",
    "\n",
    " #creating table by inserting all the column names\n",
    "cursor.execute(\"CREATE TABLE TREEPLANTATION ( TreeID CHAR(250) NOT NULL, qLegalStatus CHAR(250) NOT NULL, qSpecies CHAR(250) NOT NULL, qAddress CHAR(250) NOT NULL ,SiteOrder CHAR(250) NOT NULL, qSiteInfo CHAR(250) NOT NULL, PlantType CHAR(250) NOT NULL , qCaretaker CHAR(250) NOT NULL ,DBH CHAR(250) NOT NULL ,PlotSize CHAR(250) NOT NULL ,XCoord CHAR(250) NOT NULL ,YCoord CHAR(250) NOT NULL ,Latitude CHAR(250) NOT NULL ,Longitude CHAR(250) NOT NULL ,Fire_Prevention_Districts CHAR(250) NOT NULL ,Police_Districts CHAR(250) NOT NULL ,Supervisor_Districts CHAR(250) NOT NULL ,Zip_Codes CHAR(250) NOT NULL ,Neighborhoods CHAR(250) NOT NULL ,Analysis_Neighborhoods CHAR(250) NOT NULL) \") \n",
    "print(\"TREEPLANTATION table is created....\") "
   ]
  },
  {
   "cell_type": "code",
   "execution_count": null,
   "id": "684422a7",
   "metadata": {},
   "outputs": [],
   "source": [
    "import mysql.connector\n",
    "import csv\n",
    "\n",
    "ssh_key_path = \"C:/Users/Manu/Downloads/StudiesNCI/MichealBrad_DB/projects/DataBase_And_Analytics_Project/new.pem\"\n",
    "mypkey = paramiko.RSAKey.from_private_key_file(ssh_key_path)\n",
    "\n",
    "sql_hostname = '127.0.0.1'\n",
    "sql_username = 'root'\n",
    "sql_password = 'root'\n",
    "sql_main_database = 'X22114386Project'\n",
    "sql_port = 3306\n",
    "ssh_host = '87.44.4.70'\n",
    "ssh_user = 'debian'\n",
    "ssh_port = 22\n",
    "sql_ip = '0.0.0.0:0'\n",
    "\n",
    "tunnel = SSHTunnelForwarder((ssh_host, 22), ssh_pkey=mypkey, ssh_username=ssh_user,\n",
    "remote_bind_address=(sql_hostname, 3306))\n",
    "tunnel.start()\n",
    "conn = pymysql.connect(host='127.0.0.1', user='root', passwd='root', database='X22114386Project',port=tunnel.local_bind_port)\n",
    "\n",
    "\n",
    "with open('C:\\\\Users\\\\Manu\\\\Downloads\\\\TreeplantCleaned.csv', 'r') as f: \n",
    "    reader = csv.reader(f)\n",
    "    next(reader) # skip the header row\n",
    "    for row in reader:\n",
    "\n",
    "        # Insert each row into the database\n",
    "        cursor = conn.cursor()\n",
    "        cursor.execute(\"INSERT INTO TREEPLANTATION ( TreeID, qLegalStatus, qSpecies, qAddress, SiteOrder, qSiteInfo, PlantType, qCaretaker, DBH,PlotSize, XCoord, YCoord, Latitude, Longitude, Fire_Prevention_Districts, Police_Districts, Supervisor_Districts, Zip_Codes, Neighborhoods, Analysis_Neighborhoods)VALUES (%s, %s, %s, %s, %s, %s, %s, %s, %s, %s, %s, %s, %s, %s, %s, %s, %s, %s, %s, %s);\", (row[0], row[1], row[2], row[3], row[4], row[5], row[6], row[7], row[8], row[9], row[10], row[11], row[12], row[13], row[14], row[15], row[16], row[17], row[18], row[19]))\n",
    "        conn.commit()\n",
    "#Closing the database connection\n",
    "conn.close() "
   ]
  },
  {
   "cell_type": "code",
   "execution_count": null,
   "id": "d6567a12",
   "metadata": {},
   "outputs": [],
   "source": []
  }
 ],
 "metadata": {
  "kernelspec": {
   "display_name": "Python 3 (ipykernel)",
   "language": "python",
   "name": "python3"
  },
  "language_info": {
   "codemirror_mode": {
    "name": "ipython",
    "version": 3
   },
   "file_extension": ".py",
   "mimetype": "text/x-python",
   "name": "python",
   "nbconvert_exporter": "python",
   "pygments_lexer": "ipython3",
   "version": "3.9.13"
  }
 },
 "nbformat": 4,
 "nbformat_minor": 5
}
