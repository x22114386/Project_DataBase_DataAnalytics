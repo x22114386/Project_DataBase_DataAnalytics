{
 "cells": [
  {
   "attachments": {},
   "cell_type": "markdown",
   "id": "d013d36c",
   "metadata": {},
   "source": [
    "# Fetch Data through API"
   ]
  },
  {
   "cell_type": "code",
   "execution_count": 6,
   "id": "81b1bf01",
   "metadata": {},
   "outputs": [],
   "source": [
    "import requests\n",
    "import json\n",
    "import csv\n",
    "import pandas as pd\n",
    "from requests.api import head\n",
    "\n",
    "url = 'https://data.ny.gov/api/views/4a2x-yp8g/rows.json?accessType=DOWNLOAD'\n",
    "headers = { \n",
    "    'Accept': 'application/json', \n",
    "    'Content-Type': 'application/json'\n",
    "}\n",
    "\n",
    "#API call to get records\n",
    "response = requests.request(\"GET\", url, headers=headers,data={})\n",
    "decoded_data = response.text.encode().decode('utf-8-sig')\n",
    "data = json.loads(decoded_data)\n",
    "\n",
    "#API result\n",
    "columns = data['meta']['view']['columns']\n",
    "rows = data['data']\n",
    "excluded_columns = 8"
   ]
  },
  {
   "attachments": {},
   "cell_type": "markdown",
   "id": "7590b8a9",
   "metadata": {},
   "source": [
    "# Convert JSON data to CSV format"
   ]
  },
  {
   "cell_type": "code",
   "execution_count": null,
   "id": "2c68b2ff",
   "metadata": {},
   "outputs": [],
   "source": [
    "# Save to a csv file\n",
    "with open('Output.csv', 'w', newline='', encoding='utf-8') as outputFile:\n",
    "    fieldnames = [column['name'] for column in columns][excluded_columns:27] # Extract column names from metadata\n",
    "    writer = csv.writer(outputFile)\n",
    "    writer.writerow(fieldnames)\n",
    "    # Write rows to the CSV file\n",
    "    for row in rows:\n",
    "        writer.writerow(row[excluded_columns:27])   \n",
    "        "
   ]
  },
  {
   "attachments": {},
   "cell_type": "markdown",
   "id": "82651867",
   "metadata": {},
   "source": [
    "# Replace null values with NA"
   ]
  },
  {
   "cell_type": "code",
   "execution_count": 9,
   "id": "6b2466f0",
   "metadata": {},
   "outputs": [],
   "source": [
    "csv_data = pd.read_csv('Output.csv')\n",
    "csv_data.fillna('NA', inplace=True)\n",
    "csv_data.to_csv('CleanedOutput.csv', index=False)"
   ]
  },
  {
   "attachments": {},
   "cell_type": "markdown",
   "id": "10abc691",
   "metadata": {},
   "source": [
    "Connecting DB in the Debian server through MySQL"
   ]
  },
  {
   "cell_type": "code",
   "execution_count": null,
   "id": "3158b0fc",
   "metadata": {},
   "outputs": [],
   "source": [
    "%pip install mysql-connector-python\n",
    "%pip install pymysql\n",
    "%pip install pandas"
   ]
  },
  {
   "cell_type": "code",
   "execution_count": 1,
   "id": "7c162005",
   "metadata": {},
   "outputs": [
    {
     "name": "stdout",
     "output_type": "stream",
     "text": [
      "You're connected to database:  ('x22105522db',)\n",
      "Creating table....\n",
      "EnergyEfficiencyProjectsss table is created....\n"
     ]
    }
   ],
   "source": [
    "import mysql.connector as msql\n",
    "from mysql.connector import Error\n",
    "import csv\n",
    "\n",
    "try:\n",
    "    conn = msql.connect(\n",
    "       host=\"localhost\", \n",
    "       database=\"x22105522DB\", \n",
    "       user=\"root\", \n",
    "       password=\"Karthika@31\"\n",
    "    )\n",
    "    if conn.is_connected():\n",
    "      cursor = conn.cursor()\n",
    "      cursor.execute(\"select database();\")\n",
    "      record = cursor.fetchone()\n",
    "\n",
    "      print(\"You're connected to database: \", record)\n",
    "      cursor.execute('DROP TABLE IF EXISTS EnergyEfficiencyProject;')\n",
    "\n",
    "      print('Creating table....')\n",
    "      cursor.execute(\"CREATE TABLE EnergyEfficiencyProject (Reporting_Period CHAR(30) NOT NULL, Project_ID CHAR(30) NOT NULL, Project_County CHAR(30) NOT NULL, Project_City CHAR(30) NOT NULL, Project_ZIP CHAR(30) NOT NULL, Gas_Utility CHAR(30) NOT NULL, Electric_Utility CHAR(30) NOT NULL, Project_Completion_Date CHAR(30) NOT NULL, Total_Project_Cost CHAR(30) NOT NULL, Heating_FuelType CHAR(30) NOT NULL, Year_Home_Built CHAR(250) NOT NULL, Size_Of_Home CHAR(30) NOT NULL, Number_Of_Units CHAR(30) NOT NULL, Job_Type CHAR(30) NOT NULL, Type_Of_Dwelling CHAR(30) NOT NULL, Measure_Type CHAR(30) NOT NULL, Annual_Savings_kWh CHAR(30) NOT NULL, Annual_Savings_MMBtu CHAR(30) NOT NULL, Energy_Savings CHAR(30) NOT NULL)\")\n",
    "      print(\"EnergyEfficiencyProject table is created....\")\n",
    "\n",
    "except Error as e:\n",
    "    print(\"Error while connecting to MySQL\", e)\n",
    "\n",
    "# INSERT DATA INTO THE TABLE EnergyEfficiencyProject\n",
    "\n",
    "# Open the CSV file and read its contents\n",
    "with open('CleanedOutput.csv', 'r') as f:\n",
    "    reader = csv.reader(f)\n",
    "    next(reader) # skip the header row\n",
    "    for row in reader:\n",
    "        \n",
    "        #Insert each row into the database\n",
    "        cursor = conn.cursor()\n",
    "        cursor.execute(\"INSERT INTO EnergyEfficiencyProject (Reporting_Period, Project_ID, Project_County, Project_City, Project_ZIP, Gas_Utility, Electric_Utility, Project_Completion_Date, Total_Project_Cost, Heating_FuelType, Year_Home_Built, Size_Of_Home, Number_Of_Units, Job_Type, Type_Of_Dwelling, Measure_Type, Annual_Savings_kWh, Annual_Savings_MMBtu, Energy_Savings) VALUES (%s, %s, %s,%s, %s, %s,%s, %s, %s,%s, %s, %s,%s, %s, %s,%s, %s, %s,%s);\", (row[0], row[1], row[2],row[3],row[4],row[5],row[6],row[7],row[8],row[9],row[10],row[11],row[12],row[13],row[14],row[15],row[16],row[17],row[18]))\n",
    "        conn.commit()\n",
    "        print(\"Table inserted...\")\n",
    "\n",
    "# Close the database connection\n",
    "conn.close()"
   ]
  },
  {
   "attachments": {},
   "cell_type": "markdown",
   "id": "7c0e88b1",
   "metadata": {},
   "source": [
    "# Creating DB through PostGreSQL"
   ]
  },
  {
   "cell_type": "code",
   "execution_count": null,
   "id": "881d82a7",
   "metadata": {},
   "outputs": [],
   "source": [
    "%pip install psycopg2"
   ]
  },
  {
   "attachments": {},
   "cell_type": "markdown",
   "id": "563ef568",
   "metadata": {},
   "source": [
    "DB connection"
   ]
  },
  {
   "cell_type": "code",
   "execution_count": null,
   "id": "a03d690f",
   "metadata": {},
   "outputs": [],
   "source": [
    "\n",
    "import psycopg2\n",
    "\n",
    "try:\n",
    "    dbConnection = psycopg2.connect(user = \"dap\", password = \"dap\", host = \"87.44.4.70\", port = \"5432\", database = \"postgres\")\n",
    "\n",
    "    dbConnection.set_isolation_level(0) # AUTOCOMMIT\n",
    "    dbCursor = dbConnection.cursor()\n",
    "\n",
    "    dbCursor.execute('CREATE DATABASE postgres;')\n",
    "    dbCursor.close()\n",
    "\n",
    "except (Exception, psycopg2.Error) as dbError :\n",
    "    print (\"Error while connecting to PostgreSQL\", dbError)\n",
    "\n",
    "\n",
    "finally:\n",
    "    if(dbConnection): dbConnection.close()\n"
   ]
  },
  {
   "attachments": {},
   "cell_type": "markdown",
   "id": "e093f9e4",
   "metadata": {},
   "source": [
    "Creating tables"
   ]
  },
  {
   "cell_type": "code",
   "execution_count": null,
   "id": "a64b4a39",
   "metadata": {},
   "outputs": [],
   "source": [
    "\n",
    "dbConnection = psycopg2.connect(user = \"dap\", password = \"dap\", host = \"87.44.4.70\", port = \"5432\", database = \"postgres\")\n",
    "dbCursor = dbConnection.cursor()\n",
    "dbCursor.execute(\"CREATE TABLE EnergyEfficiencyProjects (Reporting_Period VARCHAR(50) NOT NULL, Project_ID VARCHAR(50) NOT NULL, Project_County VARCHAR(50) NOT NULL, Project_City VARCHAR(50) NOT NULL, Project_ZIP VARCHAR(50) NOT NULL, Gas_Utility VARCHAR(50) NOT NULL, Electric_Utility VARCHAR(50) NOT NULL, Project_Completion_Date VARCHAR(50) NOT NULL, Total_Project_Cost VARCHAR(50) NOT NULL, Heating_FuelType VARCHAR(50) NOT NULL, Year_Home_Built CHAR(250) NOT NULL, Size_Of_Home VARCHAR(50) NOT NULL, Number_Of_Units VARCHAR(50) NOT NULL, Job_Type VARCHAR(50) NOT NULL, Type_Of_Dwelling VARCHAR(50) NOT NULL, Measure_Type VARCHAR(50) NOT NULL, Annual_Savings_kWh VARCHAR(50) NOT NULL, Annual_Savings_MMBtu VARCHAR(50) NOT NULL, Energy_Savings VARCHAR(50) NOT NULL)\")\n",
    "\n",
    "# Commit the transaction and close the cursor and connection\n",
    "dbConnection.commit()\n",
    "dbCursor.close()\n",
    "dbConnection.close()\n"
   ]
  },
  {
   "attachments": {},
   "cell_type": "markdown",
   "id": "69d33ee6",
   "metadata": {},
   "source": [
    "Inserting data in table"
   ]
  },
  {
   "cell_type": "code",
   "execution_count": null,
   "id": "638fbb59",
   "metadata": {},
   "outputs": [],
   "source": [
    "dbConnection = psycopg2.connect(user = \"dap\", password = \"dap\", host = \"87.44.4.70\", port = \"5432\", database = \"postgres\")\n",
    "dbCursor = dbConnection.cursor()\n",
    "\n",
    "insert_statement = \"INSERT INTO EnergyEfficiencyProjects (Reporting_Period, Project_ID, Project_County, Project_City, Project_ZIP, Gas_Utility, Electric_Utility, Project_Completion_Date, Total_Project_Cost, Heating_FuelType, Year_Home_Built, Size_Of_Home, Number_Of_Units, Job_Type, Type_Of_Dwelling, Measure_Type, Annual_Savings_kWh, Annual_Savings_MMBtu, Energy_Savings) VALUES (%s, %s, %s,%s, %s, %s,%s, %s, %s,%s, %s, %s,%s, %s, %s,%s, %s, %s,%s)\"\n",
    "\n",
    "# Open the CSV file\n",
    "with open('CleanedOutput.csv', 'r') as csv_file:\n",
    "    csv_reader = csv.reader(csv_file, delimiter=',')\n",
    "    next(csv_reader)\n",
    "    \n",
    "    for row in csv_reader:\n",
    "        data_insert = (row[0], row[1], row[2], row[3], row[4], row[5], row[6], row[7], row[8], row[9], row[10], row[11], row[12], row[13], row[14], row[15], row[16], row[17], row[18])\n",
    "        # Executing the INSERT statement\n",
    "        dbCursor.execute(insert_statement, data_insert)\n",
    "\n",
    "\n",
    "# Commit the transaction and close the cursor and connection\n",
    "dbConnection.commit()\n",
    "dbCursor.close()\n",
    "dbConnection.close()"
   ]
  },
  {
   "cell_type": "markdown",
   "id": "07198729",
   "metadata": {},
   "source": []
  }
 ],
 "metadata": {
  "kernelspec": {
   "display_name": "Python 3 (ipykernel)",
   "language": "python",
   "name": "python3"
  },
  "language_info": {
   "codemirror_mode": {
    "name": "ipython",
    "version": 3
   },
   "file_extension": ".py",
   "mimetype": "text/x-python",
   "name": "python",
   "nbconvert_exporter": "python",
   "pygments_lexer": "ipython3",
   "version": "3.9.13"
  }
 },
 "nbformat": 4,
 "nbformat_minor": 5
}
