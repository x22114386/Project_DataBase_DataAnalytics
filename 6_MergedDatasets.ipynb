{
 "cells": [
  {
   "attachments": {},
   "cell_type": "markdown",
   "id": "142ec4f2",
   "metadata": {},
   "source": [
    "# Merge all datasets for further visualisation analysis"
   ]
  },
  {
   "cell_type": "code",
   "execution_count": 5,
   "id": "081be8e5",
   "metadata": {},
   "outputs": [
    {
     "name": "stdout",
     "output_type": "stream",
     "text": [
      "Datasets have been merged...\n"
     ]
    }
   ],
   "source": [
    "import pandas as pd\n",
    "\n",
    "csv_files = [\"CleanedTreePlantations.csv\", \"CleanVehData.csv\", \"CleanedEnergyEfficiency.csv\", \"CleanedCompetitions.csv\"]\n",
    "\n",
    "# Combine the CSV files into a single DataFrame\n",
    "df = pd.concat([pd.read_csv(file) for file in csv_files])\n",
    "\n",
    "# Write the merged DataFrame to a new CSV file\n",
    "df.to_csv(\"MergedData.csv\", index=False)\n",
    "\n",
    "\n",
    "# Define a list of the four CSV file names\n",
    "file_names = [\"CleanedTreePlantations.csv\", \"CleanVehData.csv\", \"CleanedEnergyEfficiency.csv\", \"CleanedCompetitions.csv\"]\n",
    "\n",
    "\n",
    "# Initialize an empty list to store the data frames\n",
    "dfs = []\n",
    "\n",
    "# Loop through the file names and load the first 1000 rows of each CSV file into a data frame\n",
    "for file_name in file_names:\n",
    "    df = pd.read_csv(file_name, nrows=1000)\n",
    "    dfs.append(df)\n",
    "\n",
    "\n",
    "# Concatenate the data frames vertically (along the rows axis)\n",
    "merged_df = pd.concat(dfs, axis=1)\n",
    "\n",
    "merged_df.fillna('NA', inplace=True)\n",
    "# Write the merged dataset to a CSV file\n",
    "merged_df.to_csv('MergedDataset.csv', index=False)"
   ]
  },
  {
   "cell_type": "code",
   "execution_count": 21,
   "id": "91253bd0",
   "metadata": {},
   "outputs": [],
   "source": []
  },
  {
   "cell_type": "code",
   "execution_count": null,
   "id": "d9bbcff0",
   "metadata": {},
   "outputs": [],
   "source": []
  }
 ],
 "metadata": {
  "kernelspec": {
   "display_name": "Python 3 (ipykernel)",
   "language": "python",
   "name": "python3"
  },
  "language_info": {
   "codemirror_mode": {
    "name": "ipython",
    "version": 3
   },
   "file_extension": ".py",
   "mimetype": "text/x-python",
   "name": "python",
   "nbconvert_exporter": "python",
   "pygments_lexer": "ipython3",
   "version": "3.10.9"
  }
 },
 "nbformat": 4,
 "nbformat_minor": 5
}
