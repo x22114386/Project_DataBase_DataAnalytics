{
 "cells": [
  {
   "cell_type": "code",
   "execution_count": 1,
   "id": "31f8b76e",
   "metadata": {},
   "outputs": [
    {
     "name": "stdout",
     "output_type": "stream",
     "text": [
      "[{'id': -1, 'name': 'sid', 'dataTypeName': 'meta_data', 'fieldName': ':sid', 'position': 0, 'renderTypeName': 'meta_data', 'format': {}, 'flags': ['hidden']}, {'id': -1, 'name': 'id', 'dataTypeName': 'meta_data', 'fieldName': ':id', 'position': 0, 'renderTypeName': 'meta_data', 'format': {}, 'flags': ['hidden']}, {'id': -1, 'name': 'position', 'dataTypeName': 'meta_data', 'fieldName': ':position', 'position': 0, 'renderTypeName': 'meta_data', 'format': {}, 'flags': ['hidden']}, {'id': -1, 'name': 'created_at', 'dataTypeName': 'meta_data', 'fieldName': ':created_at', 'position': 0, 'renderTypeName': 'meta_data', 'format': {}, 'flags': ['hidden']}, {'id': -1, 'name': 'created_meta', 'dataTypeName': 'meta_data', 'fieldName': ':created_meta', 'position': 0, 'renderTypeName': 'meta_data', 'format': {}, 'flags': ['hidden']}, {'id': -1, 'name': 'updated_at', 'dataTypeName': 'meta_data', 'fieldName': ':updated_at', 'position': 0, 'renderTypeName': 'meta_data', 'format': {}, 'flags': ['hidden']}, {'id': -1, 'name': 'updated_meta', 'dataTypeName': 'meta_data', 'fieldName': ':updated_meta', 'position': 0, 'renderTypeName': 'meta_data', 'format': {}, 'flags': ['hidden']}, {'id': -1, 'name': 'meta', 'dataTypeName': 'meta_data', 'fieldName': ':meta', 'position': 0, 'renderTypeName': 'meta_data', 'format': {}, 'flags': ['hidden']}, {'id': 561974342, 'name': 'VIN (1-10)', 'dataTypeName': 'text', 'description': \"The 1st 10 characters of each vehicle's Vehicle Identification Number (VIN).\", 'fieldName': 'vin_1_10', 'position': 1, 'renderTypeName': 'text', 'tableColumnId': 79309982, 'format': {}}, {'id': 561974343, 'name': 'County', 'dataTypeName': 'text', 'description': 'The county in which the registered owner resides.', 'fieldName': 'county', 'position': 2, 'renderTypeName': 'text', 'tableColumnId': 79309981, 'format': {}}, {'id': 561974344, 'name': 'City', 'dataTypeName': 'text', 'description': 'The city in which the registered owner resides.', 'fieldName': 'city', 'position': 3, 'renderTypeName': 'text', 'tableColumnId': 79309980, 'format': {}}, {'id': 561974345, 'name': 'State', 'dataTypeName': 'text', 'description': 'The state in which the registered owner resides.', 'fieldName': 'state', 'position': 4, 'renderTypeName': 'text', 'tableColumnId': 80218820, 'format': {}}, {'id': 561974346, 'name': 'Postal Code', 'dataTypeName': 'text', 'description': 'The 5 digit zip code in which the registered owner resides.', 'fieldName': 'zip_code', 'position': 5, 'renderTypeName': 'text', 'tableColumnId': 79309971, 'format': {}}, {'id': 561974347, 'name': 'Model Year', 'dataTypeName': 'text', 'description': 'The model year of the vehicle, determined by decoding the Vehicle Identification Number (VIN).', 'fieldName': 'model_year', 'position': 6, 'renderTypeName': 'text', 'tableColumnId': 79309970, 'format': {}}, {'id': 561974348, 'name': 'Make', 'dataTypeName': 'text', 'description': 'The manufacturer of the vehicle, determined by decoding the Vehicle Identification Number (VIN).', 'fieldName': 'make', 'position': 7, 'renderTypeName': 'text', 'tableColumnId': 79309979, 'format': {}}, {'id': 561974349, 'name': 'Model', 'dataTypeName': 'text', 'description': 'The model of the vehicle, determined by decoding the Vehicle Identification Number (VIN).', 'fieldName': 'model', 'position': 8, 'renderTypeName': 'text', 'tableColumnId': 79309978, 'format': {}}, {'id': 561974350, 'name': 'Electric Vehicle Type', 'dataTypeName': 'text', 'description': 'This distinguishes the vehicle as all electric or a plug-in hybrid.', 'fieldName': 'ev_type', 'position': 9, 'renderTypeName': 'text', 'tableColumnId': 79309976, 'format': {'align': 'right'}}, {'id': 561974351, 'name': 'Clean Alternative Fuel Vehicle (CAFV) Eligibility', 'dataTypeName': 'text', 'description': 'This categorizes vehicle as Clean Alternative Fuel Vehicles (CAFVs) based on the fuel requirement and electric-only range requirement in House Bill 2042 as passed in the 2019 legislative session.', 'fieldName': 'cafv_type', 'position': 10, 'renderTypeName': 'text', 'tableColumnId': 79309975, 'format': {'align': 'right'}}, {'id': 561974352, 'name': 'Electric Range', 'dataTypeName': 'number', 'description': 'Describes how far a vehicle can travel purely on its electric charge.', 'fieldName': 'electric_range', 'position': 11, 'renderTypeName': 'number', 'tableColumnId': 79309974, 'format': {'align': 'right'}}, {'id': 561974353, 'name': 'Base MSRP', 'dataTypeName': 'number', 'description': \"This is the lowest Manufacturer's Suggested Retail Price (MSRP) for any trim level of the model in question.\", 'fieldName': 'base_msrp', 'position': 12, 'renderTypeName': 'number', 'tableColumnId': 79310342, 'format': {'align': 'right'}}, {'id': 561974354, 'name': 'Legislative District', 'dataTypeName': 'number', 'description': \"The specific section of Washington State that the vehicle's owner resides in, as represented in the state legislature.\", 'fieldName': 'legislative_district', 'position': 13, 'renderTypeName': 'number', 'tableColumnId': 140620854, 'format': {'align': 'center'}}, {'id': 561974355, 'name': 'DOL Vehicle ID', 'dataTypeName': 'text', 'description': 'Unique number assigned to each vehicle by Department of Licensing for identification purposes.', 'fieldName': 'dol_vehicle_id', 'position': 14, 'renderTypeName': 'text', 'tableColumnId': 82051518, 'format': {}}, {'id': 561974356, 'name': 'Vehicle Location', 'dataTypeName': 'point', 'description': 'The center of the ZIP Code for the registered vehicle.', 'fieldName': 'geocoded_column', 'position': 15, 'renderTypeName': 'point', 'tableColumnId': 87270515, 'format': {}}, {'id': 561974358, 'name': 'Electric Utility', 'dataTypeName': 'text', 'description': 'This is the electric power retail service territories serving the address of the registered vehicle. All ownership types for areas in Washington are included: federal, investor owned, municipal, political subdivision, and cooperative. If the address for the registered vehicle falls into an area with overlapping electric power retail service territories then a single pipe | delimits utilities of same TYPE and a double pipe || delimits utilities of different types. We combined vehicle address and Homeland Infrastructure Foundation Level Database (HIFLD) (https://gii.dhs.gov/HIFLD) Retail_Service_Territories feature layer using a geographic information system to assign values for this field. Blanks occur for vehicles with addresses outside of Washington or for addresses falling into areas in Washington not containing a mapped electric power retail service territory in the source data.', 'fieldName': 'electric_utility', 'position': 17, 'renderTypeName': 'text', 'tableColumnId': 141400529, 'format': {}}, {'id': 561974362, 'name': '2020 Census Tract', 'dataTypeName': 'text', 'description': 'The census tract identifier is a combination of the state, county, and census tract codes as assigned by the United States Census Bureau in the 2020 census, also known as Geographic Identifier (GEOID).   More information can be found here:    https://www.census.gov/programs-surveys/geography/about/glossary.html#par_textimage_13   https://www.census.gov/programs-surveys/geography/guidance/geo-identifiers.html ', 'fieldName': '_2020_census_tract', 'position': 18, 'renderTypeName': 'text', 'tableColumnId': 142655072, 'format': {}}, {'id': 561974360, 'name': 'Counties', 'dataTypeName': 'number', 'description': '', 'fieldName': ':@computed_region_x4ys_rtnd', 'position': 19, 'renderTypeName': 'number', 'tableColumnId': 87270516, 'computationStrategy': {'source_columns': ['geocoded_column'], 'type': 'georegion_match_on_point', 'parameters': {'region': '_x4ys-rtnd', 'primary_key': '_feature_id'}}, 'format': {}}, {'id': 561974361, 'name': 'Congressional Districts', 'dataTypeName': 'number', 'description': '', 'fieldName': ':@computed_region_fny7_vc3j', 'position': 20, 'renderTypeName': 'number', 'tableColumnId': 87270517, 'computationStrategy': {'source_columns': ['geocoded_column'], 'type': 'georegion_match_on_point', 'parameters': {'region': '_fny7-vc3j', 'primary_key': '_feature_id'}}, 'format': {}}, {'id': 561974359, 'name': 'WAOFM - GIS - Legislative District Boundary', 'dataTypeName': 'number', 'description': '', 'fieldName': ':@computed_region_8ddd_yn5v', 'position': 21, 'renderTypeName': 'number', 'tableColumnId': 87270518, 'computationStrategy': {'source_columns': ['geocoded_column'], 'type': 'georegion_match_on_point', 'parameters': {'region': '_8ddd-yn5v', 'primary_key': '_feature_id'}}, 'format': {}}]\n"
     ]
    }
   ],
   "source": [
    "#Importing json data\n",
    "#Fetching the JSON data through the API link \n",
    "\n",
    "import requests\n",
    "import pandas as pd\n",
    "from requests.api import head\n",
    "import json\n",
    "\n",
    "#fetching json data\n",
    "response = requests.get('https://data.wa.gov/api/views/f6w7-q2d2/rows.json?accessType=DOWNLOAD')\n",
    "json_data = response.json()\n",
    "\n",
    "columns = json_data['meta']['view']['columns']\n",
    "columns_to_exclude = 8\n",
    "print(columns) "
   ]
  },
  {
   "cell_type": "code",
   "execution_count": 3,
   "id": "96255551",
   "metadata": {},
   "outputs": [],
   "source": [
    "#Converting json data fetched through API to csv file \n",
    "\n",
    "import requests\n",
    "import pandas as pd\n",
    "from requests.api import head\n",
    "import json\n",
    "import csv\n",
    "\n",
    "#fetching json data\n",
    "response = requests.get('https://data.wa.gov/api/views/f6w7-q2d2/rows.json?accessType=DOWNLOAD')\n",
    "json_data = response.json()\n",
    "\n",
    "columns = json_data['meta']['view']['columns']\n",
    "columns_to_exclude = 8\n",
    "#print(columns)\n",
    "\n",
    "rows = json_data['data']\n",
    "\n",
    "# Extract column names from metadata\n",
    "with open('Vehdata.csv', 'w', newline='', encoding='utf-8') as csvfile:\n",
    "    fieldnames = [col['name'] for col in columns][columns_to_exclude:]  \n",
    "    writer = csv.writer(csvfile)\n",
    "    writer.writerow(fieldnames)\n",
    "\n",
    "    # Write rows to the CSV file\n",
    "    for row in rows:\n",
    "        writer.writerow(row[columns_to_exclude:])\n",
    "        \n",
    "        \n",
    "#The output of the above code will be a csv file named Vehdata"
   ]
  },
  {
   "cell_type": "code",
   "execution_count": 13,
   "id": "9ff715e6",
   "metadata": {},
   "outputs": [],
   "source": [
    "#Converting null values to NA\n",
    "\n",
    "import pandas as pd\n",
    "import csv\n",
    "\n",
    "\n",
    "csv_data = pd.read_csv('Vehdata.csv')\n",
    "csv_data.fillna('NA', inplace=True)\n",
    "csv_data.to_csv('ElectricVehdata.csv', index=False)"
   ]
  },
  {
   "cell_type": "code",
   "execution_count": 4,
   "id": "5a12e8a1",
   "metadata": {},
   "outputs": [
    {
     "name": "stdout",
     "output_type": "stream",
     "text": [
      "Defaulting to user installation because normal site-packages is not writeable\n",
      "Collecting mysql-connector-python\n",
      "  Downloading mysql_connector_python-8.0.32-cp39-cp39-win_amd64.whl (7.9 MB)\n",
      "     ---------------------------------------- 7.9/7.9 MB 4.5 MB/s eta 0:00:00\n",
      "Collecting protobuf<=3.20.3,>=3.11.0\n",
      "  Downloading protobuf-3.20.3-cp39-cp39-win_amd64.whl (904 kB)\n",
      "     -------------------------------------- 904.2/904.2 kB 5.2 MB/s eta 0:00:00\n",
      "Installing collected packages: protobuf, mysql-connector-python\n",
      "Successfully installed mysql-connector-python-8.0.32 protobuf-3.20.3\n",
      "Note: you may need to restart the kernel to use updated packages.\n"
     ]
    }
   ],
   "source": [
    "#Creating table for csv file using mysql \n",
    "#Installing Packages\n",
    "\n",
    "%pip install mysql-connector-python\n"
   ]
  },
  {
   "cell_type": "code",
   "execution_count": 8,
   "id": "e91186ff",
   "metadata": {
    "scrolled": true
   },
   "outputs": [
    {
     "name": "stdout",
     "output_type": "stream",
     "text": [
      "X22114386Project  database is created\n"
     ]
    }
   ],
   "source": [
    "#Importing the csv file into mysql to create a table\n",
    "\n",
    "import mysql.connector as msql\n",
    "from mysql.connector import Error\n",
    "try:\n",
    "    conn = msql.connect(host='localhost', user='root',\n",
    "    password='Caroline@5')\n",
    "    if conn.is_connected():\n",
    "        cursor = conn.cursor()\n",
    "        cursor.execute(\"CREATE DATABASE X22114386Project\")\n",
    "        print(\"X22114386Project  database is created\")\n",
    "except Error as e:\n",
    "    print(\"Error while connecting to MySQL\", e)"
   ]
  },
  {
   "cell_type": "code",
   "execution_count": 10,
   "id": "05ea3c21",
   "metadata": {},
   "outputs": [
    {
     "name": "stdout",
     "output_type": "stream",
     "text": [
      "You're connected to database.\n",
      "Creating table....\n",
      "ElectricVehicleData table is created....\n"
     ]
    }
   ],
   "source": [
    "#Creating new table name ElectricVehicleData to add the csv file \n",
    "\n",
    "import mysql.connector\n",
    "import csv\n",
    "\n",
    "# Connect to the MySQL database\n",
    "conn = mysql.connector.connect( host=\"localhost\",database=\"X22114386Project\",user=\"root\",password=\"Caroline@5\")\n",
    "\n",
    "if conn.is_connected():\n",
    " cursor = conn.cursor()\n",
    " cursor.execute(\"select database();\")\n",
    " record = cursor.fetchone()\n",
    " print(\"You're connected to database.\")\n",
    " cursor.execute('DROP TABLE IF EXISTS ElectricVehicleData;')  \n",
    " print('Creating table....')\n",
    "\n",
    " #creating table by inserting all the column names\n",
    " cursor.execute(\"CREATE TABLE ElectricVehicleData (VIN CHAR(50) NOT NULL, County CHAR(30) NOT NULL, City CHAR(30) NOT NULL, State CHAR(50) NOT NULL, Postal_Code CHAR(50) NOT NULL, Model_Year CHAR(30) NOT NULL, Make CHAR(50) NOT NULL, Model CHAR(50) NOT NULL, Electric_Vehicle_Type CHAR(100) NOT NULL, Clean_Alternative_Fuel_Vehicle_Eligibility CHAR(100) NOT NULL, Electric_Range CHAR(50) NOT NULL, Base_MSRP CHAR(50) NOT NULL, Legislative_District CHAR(50) NOT NULL, DOL_Vehicle_ID CHAR(50) NOT NULL, Vehicle_Location CHAR(50) NOT NULL, Electric_Utility CHAR(250) NOT NULL, Census_Tract CHAR(50) NOT NULL, Counties CHAR(50) NOT NULL, Congressional_Districts CHAR(50) NOT NULL, WAOFM_GIS CHAR(50) NOT NULL)\")\n",
    " print(\"ElectricVehicleData table is created....\")\n",
    "\n"
   ]
  },
  {
   "cell_type": "code",
   "execution_count": 1,
   "id": "86ba744d",
   "metadata": {},
   "outputs": [],
   "source": [
    "#Inserting values of csv file into newly created table ElectricVehicleData\n",
    "\n",
    "import mysql.connector\n",
    "import csv\n",
    "conn = mysql.connector.connect( host=\"localhost\",database=\"X22114386Project\",user=\"root\",password=\"Caroline@5\")\n",
    "\n",
    "with open('ElectricVehdata.csv', 'r') as f:\n",
    "\n",
    " reader = csv.reader(f)\n",
    " next(reader) # skip the header row\n",
    " for row in reader:\n",
    "  # Insert each row into the database\n",
    "  cursor = conn.cursor()\n",
    "  \n",
    "  #Inserting values into the created table\n",
    "  cursor.execute(\"INSERT INTO ElectricVehicleData (VIN, County, City, State, Postal_Code, Model_Year, Make, Model, Electric_Vehicle_Type, Clean_Alternative_Fuel_Vehicle_Eligibility, Electric_Range, Base_MSRP, Legislative_District, DOL_Vehicle_ID, Vehicle_Location, Electric_Utility, Census_Tract, Counties, Congressional_Districts, WAOFM_GIS) VALUES (%s, %s, %s, %s, %s, %s, %s, %s, %s, %s, %s, %s, %s, %s, %s, %s, %s, %s, %s, %s);\", (row[0], row[1], row[2], row[3], row[4], row[5], row[6], row[7], row[8], row[9], row[10], row[11], row[12], row[13], row[14], row[15], row[16], row[17], row[18], row[19]))\n",
    "  conn.commit()\n",
    "\n",
    "#Closing the database connection\n",
    "\n",
    "conn.close()\n"
   ]
  },
  {
   "cell_type": "code",
   "execution_count": 5,
   "id": "3e20af77",
   "metadata": {},
   "outputs": [
    {
     "name": "stdout",
     "output_type": "stream",
     "text": [
      "Defaulting to user installation because normal site-packages is not writeable\n",
      "Collecting psycopg2\n",
      "  Downloading psycopg2-2.9.6-cp39-cp39-win_amd64.whl (1.2 MB)\n",
      "     ---------------------------------------- 1.2/1.2 MB 12.4 MB/s eta 0:00:00\n",
      "Installing collected packages: psycopg2\n",
      "Successfully installed psycopg2-2.9.6\n",
      "Note: you may need to restart the kernel to use updated packages.\n"
     ]
    }
   ],
   "source": [
    "#Installing the module to connect to postgres\n",
    "\n",
    "pip install psycopg2\n"
   ]
  },
  {
   "cell_type": "code",
   "execution_count": 1,
   "id": "2b34f302",
   "metadata": {},
   "outputs": [
    {
     "name": "stdout",
     "output_type": "stream",
     "text": [
      "Error while connecting to PostgreSQL database \"postgres\" already exists\n",
      "\n"
     ]
    }
   ],
   "source": [
    "#Creating the Database in postgresssql\n",
    "\n",
    "import psycopg2\n",
    "\n",
    "try:\n",
    " dbConnection = psycopg2.connect(user = \"dap\", password = \"dap\", host = \"87.44.4.70\", port = \"5432\", database = \"postgres\")\n",
    " \n",
    " dbConnection.set_isolation_level(0) # AUTOCOMMIT\n",
    " dbCursor = dbConnection.cursor()\n",
    "    \n",
    " dbCursor.execute('CREATE DATABASE postgres;')\n",
    " dbCursor.close()\n",
    "    \n",
    "except (Exception, psycopg2.Error) as dbError :\n",
    " print (\"Error while connecting to PostgreSQL\", dbError)\n",
    "\n",
    "finally:\n",
    " if(dbConnection): dbConnection.close()"
   ]
  },
  {
   "cell_type": "code",
   "execution_count": 2,
   "id": "1e506f73",
   "metadata": {},
   "outputs": [
    {
     "name": "stdout",
     "output_type": "stream",
     "text": [
      "Creating table....\n",
      "ElectVehicleData table created.\n"
     ]
    }
   ],
   "source": [
    "#Creating a table in postgres\n",
    "\n",
    "import psycopg2\n",
    "\n",
    "conn = psycopg2.connect(database=\"postgres\", user=\"dap\", password=\"dap\", host=\"87.44.4.70\", port=\"5432\")\n",
    "\n",
    "cur = conn.cursor()\n",
    " \n",
    "cur.execute('DROP TABLE IF EXISTS ElectVehicleData;')  \n",
    "print('Creating table....')\n",
    "cur.execute(\"\"\"\n",
    "    CREATE TABLE ElectVehicleData (\n",
    "        VIN VARCHAR(50), County VARCHAR(50) NOT NULL, City VARCHAR(50) NOT NULL, State VARCHAR(50) NOT NULL, Postal_Code VARCHAR(50), Model_Year VARCHAR(50), Make VARCHAR(50), Model VARCHAR(50), Electric_Vehicle_Type VARCHAR(100), Clean_Alternative_Fuel_Vehicle_Eligibility VARCHAR(100), Electric_Range VARCHAR(50), Base_MSRP VARCHAR(50),\n",
    "        Legislative_District VARCHAR(50), DOL_Vehicle_ID VARCHAR(50), Vehicle_Location VARCHAR(50), Electric_Utility VARCHAR(250), \n",
    "        Census_Tract VARCHAR(50), Counties VARCHAR(50), Congressional_Districts VARCHAR(50), WAOFM_GIS VARCHAR(50));\"\"\")\n",
    "\n",
    "print('ElectVehicleData table created.')\n",
    "# Commit the transaction and close the cursor and connection\n",
    "conn.commit()\n",
    "cur.close()\n",
    "conn.close()\n"
   ]
  },
  {
   "cell_type": "code",
   "execution_count": 3,
   "id": "38a4694a",
   "metadata": {},
   "outputs": [
    {
     "name": "stdout",
     "output_type": "stream",
     "text": [
      "Values are inserted into the table.\n"
     ]
    }
   ],
   "source": [
    "#Inserting values into table in postgres\n",
    "\n",
    "import psycopg2\n",
    "import csv\n",
    "\n",
    "conn = psycopg2.connect(database=\"postgres\", user=\"dap\", password=\"dap\", host=\"87.44.4.70\", port=\"5432\")\n",
    "\n",
    "cur = conn.cursor()\n",
    "\n",
    "insert_statement = \"INSERT INTO ElectVehicleData (VIN, County, City, State, Postal_Code, Model_Year, Make, Model, Electric_Vehicle_Type, Clean_Alternative_Fuel_Vehicle_Eligibility, Electric_Range, Base_MSRP, Legislative_District, DOL_Vehicle_ID, Vehicle_Location, Electric_Utility, Census_Tract, Counties, Congressional_Districts, WAOFM_GIS) VALUES (%s, %s, %s, %s, %s, %s, %s, %s, %s, %s, %s, %s, %s, %s, %s, %s, %s, %s,%s, %s)\"\n",
    "\n",
    "# Open the CSV file\n",
    "with open('ElectricVehdata.csv', 'r') as csv_file:\n",
    "\n",
    "    csv_reader = csv.reader(csv_file, delimiter=',')\n",
    "\n",
    "    next(csv_reader)\n",
    "\n",
    "    for col in csv_reader:\n",
    "\n",
    "        values_to_insert = (col[0], col[1], col[2], col[3], col[4], col[5], col[6], col[7], col[8], col[9], col[10], col[11], col[12], col[13], col[14], col[15], col[16], col[17], col[18], col[19])\n",
    "        \n",
    "        # Executing the INSERT statement\n",
    "        cur.execute(insert_statement, values_to_insert)\n",
    "        \n",
    "print('Values are inserted into the table.')\n",
    "# Commit the transaction\n",
    "conn.commit()\n",
    "\n",
    "# Close the cursor and connection\n",
    "cur.close()\n",
    "conn.close()\n"
   ]
  }
 ],
 "metadata": {
  "kernelspec": {
   "display_name": "Python 3 (ipykernel)",
   "language": "python",
   "name": "python3"
  },
  "language_info": {
   "codemirror_mode": {
    "name": "ipython",
    "version": 3
   },
   "file_extension": ".py",
   "mimetype": "text/x-python",
   "name": "python",
   "nbconvert_exporter": "python",
   "pygments_lexer": "ipython3",
   "version": "3.9.13"
  }
 },
 "nbformat": 4,
 "nbformat_minor": 5
}
