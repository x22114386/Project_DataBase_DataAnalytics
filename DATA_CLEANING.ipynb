{
 "cells": [
  {
   "cell_type": "code",
   "execution_count": 6,
   "id": "79eb0e83",
   "metadata": {},
   "outputs": [
    {
     "name": "stdout",
     "output_type": "stream",
     "text": [
      "Shape of data:  (197092, 24)\n"
     ]
    }
   ],
   "source": [
    "#DATA CLEANING \n",
    "import pandas as pd\n",
    "import numpy as np\n",
    "\n",
    "\n",
    "df = pd.read_csv('outttput.csv')\n",
    "print('Shape of data: ', df.shape) #Displaying total number of rows and columns"
   ]
  },
  {
   "cell_type": "code",
   "execution_count": 7,
   "id": "99241ffb",
   "metadata": {},
   "outputs": [
    {
     "name": "stdout",
     "output_type": "stream",
     "text": [
      "   TreeID    qLegalStatus                                    qSpecies  \\\n",
      "0  168225  DPW Maintained  Arbutus 'Marina' :: Hybrid Strawberry Tree   \n",
      "1  168228  DPW Maintained  Arbutus 'Marina' :: Hybrid Strawberry Tree   \n",
      "2  189160  DPW Maintained           Afrocarpus gracilior :: Fern Pine   \n",
      "3  189158  DPW Maintained           Afrocarpus gracilior :: Fern Pine   \n",
      "4  189161  DPW Maintained           Afrocarpus gracilior :: Fern Pine   \n",
      "\n",
      "          qAddress  SiteOrder                     qSiteInfo PlantType  \\\n",
      "0  2547 Vallejo St        1.0  Sidewalk: Curb side : Cutout      Tree   \n",
      "1  2547 Vallejo St        4.0  Sidewalk: Curb side : Cutout      Tree   \n",
      "2  100 Kissling St        3.0                             :      Tree   \n",
      "3  100 Kissling St        1.0                             :      Tree   \n",
      "4  100 Kissling St        4.0                             :      Tree   \n",
      "\n",
      "  qCaretaker qCareAssistant PlantDate  ...        YCoord   Latitude  \\\n",
      "0    Private            NaN       NaN  ...  2.117588e+06  37.794558   \n",
      "1    Private            NaN       NaN  ...  2.117593e+06  37.794575   \n",
      "2    Private            NaN       NaN  ...  2.109401e+06  37.772473   \n",
      "3    Private            NaN       NaN  ...  2.109420e+06  37.772528   \n",
      "4    Private            NaN       NaN  ...  2.109392e+06  37.772448   \n",
      "\n",
      "    Longitude                                           Location  \\\n",
      "0 -122.439869  ['{\"address\": \"\", \"city\": \"\", \"state\": \"\", \"zi...   \n",
      "1 -122.439690  ['{\"address\": \"\", \"city\": \"\", \"state\": \"\", \"zi...   \n",
      "2 -122.415179  ['{\"address\": \"\", \"city\": \"\", \"state\": \"\", \"zi...   \n",
      "3 -122.415103  ['{\"address\": \"\", \"city\": \"\", \"state\": \"\", \"zi...   \n",
      "4 -122.415210  ['{\"address\": \"\", \"city\": \"\", \"state\": \"\", \"zi...   \n",
      "\n",
      "   Fire Prevention Districts  Police Districts  Supervisor Districts  \\\n",
      "0                       13.0               9.0                   1.0   \n",
      "1                       13.0               9.0                   1.0   \n",
      "2                        8.0               2.0                   9.0   \n",
      "3                        8.0               2.0                   9.0   \n",
      "4                        8.0               2.0                   9.0   \n",
      "\n",
      "  Zip Codes  Neighborhoods (old)  Analysis Neighborhoods  \n",
      "0      57.0                 27.0                    30.0  \n",
      "1      57.0                 27.0                    30.0  \n",
      "2   28853.0                 19.0                    20.0  \n",
      "3   28853.0                 19.0                    20.0  \n",
      "4   28853.0                 19.0                    20.0  \n",
      "\n",
      "[5 rows x 24 columns]\n"
     ]
    }
   ],
   "source": [
    "#Displaying first few rows of the Dataframe\n",
    "\n",
    "print(df.head()) "
   ]
  },
  {
   "cell_type": "code",
   "execution_count": 8,
   "id": "29f2bf3a",
   "metadata": {},
   "outputs": [
    {
     "name": "stdout",
     "output_type": "stream",
     "text": [
      "<class 'pandas.core.frame.DataFrame'>\n",
      "RangeIndex: 197092 entries, 0 to 197091\n",
      "Data columns (total 24 columns):\n",
      " #   Column                     Non-Null Count   Dtype  \n",
      "---  ------                     --------------   -----  \n",
      " 0   TreeID                     197092 non-null  int64  \n",
      " 1   qLegalStatus               197035 non-null  object \n",
      " 2   qSpecies                   197092 non-null  object \n",
      " 3   qAddress                   195599 non-null  object \n",
      " 4   SiteOrder                  195293 non-null  float64\n",
      " 5   qSiteInfo                  197092 non-null  object \n",
      " 6   PlantType                  197092 non-null  object \n",
      " 7   qCaretaker                 197092 non-null  object \n",
      " 8   qCareAssistant             24735 non-null   object \n",
      " 9   PlantDate                  71081 non-null   object \n",
      " 10  DBH                        153178 non-null  float64\n",
      " 11  PlotSize                   146654 non-null  object \n",
      " 12  PermitNotes                53767 non-null   object \n",
      " 13  XCoord                     194132 non-null  float64\n",
      " 14  YCoord                     194132 non-null  float64\n",
      " 15  Latitude                   194132 non-null  float64\n",
      " 16  Longitude                  194132 non-null  float64\n",
      " 17  Location                   194132 non-null  object \n",
      " 18  Fire Prevention Districts  193881 non-null  float64\n",
      " 19  Police Districts           193934 non-null  float64\n",
      " 20  Supervisor Districts       193995 non-null  float64\n",
      " 21  Zip Codes                  193989 non-null  float64\n",
      " 22  Neighborhoods (old)        193991 non-null  float64\n",
      " 23  Analysis Neighborhoods     193991 non-null  float64\n",
      "dtypes: float64(12), int64(1), object(11)\n",
      "memory usage: 36.1+ MB\n",
      "None\n"
     ]
    }
   ],
   "source": [
    "#Summary information of the DataFrame\n",
    "\n",
    "print(df.info()) "
   ]
  },
  {
   "cell_type": "code",
   "execution_count": 9,
   "id": "bde55bc8",
   "metadata": {},
   "outputs": [
    {
     "name": "stdout",
     "output_type": "stream",
     "text": [
      "Number of null records in data: \n",
      " TreeID                            0\n",
      "qLegalStatus                     57\n",
      "qSpecies                          0\n",
      "qAddress                       1493\n",
      "SiteOrder                      1799\n",
      "qSiteInfo                         0\n",
      "PlantType                         0\n",
      "qCaretaker                        0\n",
      "qCareAssistant               172357\n",
      "PlantDate                    126011\n",
      "DBH                           43914\n",
      "PlotSize                      50438\n",
      "PermitNotes                  143325\n",
      "XCoord                         2960\n",
      "YCoord                         2960\n",
      "Latitude                       2960\n",
      "Longitude                      2960\n",
      "Location                       2960\n",
      "Fire Prevention Districts      3211\n",
      "Police Districts               3158\n",
      "Supervisor Districts           3097\n",
      "Zip Codes                      3103\n",
      "Neighborhoods (old)            3101\n",
      "Analysis Neighborhoods         3101\n",
      "dtype: int64\n"
     ]
    }
   ],
   "source": [
    "#Checking total number of null values in each column\n",
    "\n",
    "print('Number of null records in data: \\n',df.isnull().sum())"
   ]
  },
  {
   "cell_type": "code",
   "execution_count": 13,
   "id": "3eb94927",
   "metadata": {},
   "outputs": [
    {
     "name": "stdout",
     "output_type": "stream",
     "text": [
      "Altered Dataframe:\n",
      "        TreeID    qLegalStatus  \\\n",
      "0       168225  DPW Maintained   \n",
      "1       168228  DPW Maintained   \n",
      "2       189160  DPW Maintained   \n",
      "3       189158  DPW Maintained   \n",
      "4       189161  DPW Maintained   \n",
      "...        ...             ...   \n",
      "197087  147801  DPW Maintained   \n",
      "197088   88807  Permitted Site   \n",
      "197089  211039  DPW Maintained   \n",
      "197090  224702  DPW Maintained   \n",
      "197091   62656  Permitted Site   \n",
      "\n",
      "                                                 qSpecies         qAddress  \\\n",
      "0              Arbutus 'Marina' :: Hybrid Strawberry Tree  2547 Vallejo St   \n",
      "1              Arbutus 'Marina' :: Hybrid Strawberry Tree  2547 Vallejo St   \n",
      "2                       Afrocarpus gracilior :: Fern Pine  100 Kissling St   \n",
      "3                       Afrocarpus gracilior :: Fern Pine  100 Kissling St   \n",
      "4                       Afrocarpus gracilior :: Fern Pine  100 Kissling St   \n",
      "...                                                   ...              ...   \n",
      "197087  Lyonothamnus floribundus subsp. asplenifolius ...     765 14th Ave   \n",
      "197088         Arbutus 'Marina' :: Hybrid Strawberry Tree       55 Page St   \n",
      "197089            Pinus canariensis :: Canary Island Pine  52 Burnside Ave   \n",
      "197090                 Ficus microcarpa :: Chinese Banyan     3236 24th St   \n",
      "197091              Prunus serrulata :: Ornamental Cherry  54 Carmelita St   \n",
      "\n",
      "        SiteOrder                       qSiteInfo PlantType qCaretaker   DBH  \\\n",
      "0             1.0    Sidewalk: Curb side : Cutout      Tree    Private   0.0   \n",
      "1             4.0    Sidewalk: Curb side : Cutout      Tree    Private   0.0   \n",
      "2             3.0                               :      Tree    Private   2.0   \n",
      "3             1.0                               :      Tree    Private   2.0   \n",
      "4             4.0                               :      Tree    Private   2.0   \n",
      "...           ...                             ...       ...        ...   ...   \n",
      "197087        1.0    Sidewalk: Curb side : Cutout      Tree    Private   3.0   \n",
      "197088       11.0    Sidewalk: Curb side : Cutout      Tree    Private   NaN   \n",
      "197089       10.0  Sidewalk: Property side : Yard      Tree    Private  23.0   \n",
      "197090        4.0    Sidewalk: Curb side : Cutout      Tree        DPW  19.0   \n",
      "197091        1.0    Sidewalk: Curb side : Cutout      Tree    Private   8.0   \n",
      "\n",
      "         PlotSize        XCoord        YCoord   Latitude   Longitude  \\\n",
      "0       Width 4ft  6.001191e+06  2.117588e+06  37.794558 -122.439869   \n",
      "1       Width 4ft  6.001243e+06  2.117593e+06  37.794575 -122.439690   \n",
      "2       Width 3ft  6.008159e+06  2.109401e+06  37.772473 -122.415179   \n",
      "3       Width 3ft  6.008181e+06  2.109420e+06  37.772528 -122.415103   \n",
      "4       Width 3ft  6.008150e+06  2.109392e+06  37.772448 -122.415210   \n",
      "...           ...           ...           ...        ...         ...   \n",
      "197087  Width 3ft  5.991624e+06  2.110228e+06  37.773801 -122.472433   \n",
      "197088        3x3  6.006333e+06  2.111428e+06  37.777937 -122.421638   \n",
      "197089        NaN  6.001157e+06  2.095726e+06  37.734530 -122.438418   \n",
      "197090  Width 3ft  6.007464e+06  2.102110e+06  37.752415 -122.417065   \n",
      "197091        NaN  6.002634e+06  2.108714e+06  37.770275 -122.434239   \n",
      "\n",
      "        Fire Prevention Districts  Police Districts  Supervisor Districts  \\\n",
      "0                            13.0               9.0                   1.0   \n",
      "1                            13.0               9.0                   1.0   \n",
      "2                             8.0               2.0                   9.0   \n",
      "3                             8.0               2.0                   9.0   \n",
      "4                             8.0               2.0                   9.0   \n",
      "...                           ...               ...                   ...   \n",
      "197087                       11.0               6.0                   2.0   \n",
      "197088                        7.0               9.0                  11.0   \n",
      "197089                        9.0               7.0                   5.0   \n",
      "197090                        2.0               4.0                   7.0   \n",
      "197091                       15.0               5.0                   5.0   \n",
      "\n",
      "        Zip Codes  Neighborhoods (old)  Analysis Neighborhoods  \n",
      "0            57.0                 27.0                    30.0  \n",
      "1            57.0                 27.0                    30.0  \n",
      "2         28853.0                 19.0                    20.0  \n",
      "3         28853.0                 19.0                    20.0  \n",
      "4         28853.0                 19.0                    20.0  \n",
      "...           ...                  ...                     ...  \n",
      "197087       54.0                 26.0                    29.0  \n",
      "197088    28852.0                 10.0                     9.0  \n",
      "197089       63.0                  7.0                    10.0  \n",
      "197090    28859.0                 19.0                    20.0  \n",
      "197091    29492.0                  9.0                     3.0  \n",
      "\n",
      "[197092 rows x 20 columns]\n"
     ]
    }
   ],
   "source": [
    "#Removing the columns that are not required\n",
    "\n",
    "import pandas as pd\n",
    "\n",
    "df = pd.read_csv('outttput.csv')\n",
    "dataframe = df.drop(['Location', 'qCareAssistant', 'PlantDate' , 'PermitNotes'], axis=1)\n",
    "#columns removed so much null values\n",
    "print('Altered Dataframe:')\n",
    "print(dataframe)"
   ]
  },
  {
   "cell_type": "code",
   "execution_count": 14,
   "id": "3c9e44b2",
   "metadata": {},
   "outputs": [
    {
     "name": "stdout",
     "output_type": "stream",
     "text": [
      "None\n"
     ]
    }
   ],
   "source": [
    "#Replacing all the null values with NA\n",
    "import pandas as pd\n",
    "\n",
    "\n",
    "print(dataframe.fillna('NA', inplace=True))\n"
   ]
  },
  {
   "cell_type": "code",
   "execution_count": 15,
   "id": "5a749910",
   "metadata": {},
   "outputs": [],
   "source": [
    "dataframe.to_csv('TreeplantCleaned.csv', index=False)"
   ]
  },
  {
   "cell_type": "code",
   "execution_count": null,
   "id": "0b9c1ed5",
   "metadata": {},
   "outputs": [],
   "source": []
  }
 ],
 "metadata": {
  "kernelspec": {
   "display_name": "Python 3 (ipykernel)",
   "language": "python",
   "name": "python3"
  },
  "language_info": {
   "codemirror_mode": {
    "name": "ipython",
    "version": 3
   },
   "file_extension": ".py",
   "mimetype": "text/x-python",
   "name": "python",
   "nbconvert_exporter": "python",
   "pygments_lexer": "ipython3",
   "version": "3.10.9"
  }
 },
 "nbformat": 4,
 "nbformat_minor": 5
}
