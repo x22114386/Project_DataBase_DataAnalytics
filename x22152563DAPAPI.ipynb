{
 "cells": [
  {
   "cell_type": "code",
   "execution_count": null,
   "id": "dfb09dde",
   "metadata": {},
   "outputs": [],
   "source": [
    "import pandas as pd\n",
    "import requests\n",
    "import csv\n",
    "\n",
    "# Send a GET request to the API endpoint\n",
    "response = requests.get('https://data.sfgov.org/api/views/tkzw-k3nq/rows.json?accessType=DOWNLOAD')\n",
    "\n",
    "# Extract the JSON data from the response object\n",
    "json_data = response.json()\n",
    "\n",
    "# Load the JSON data into a pandas dataframe\n",
    "columns=json_data['meta']['view']['columns']\n",
    "columns_to_exclude = 8\n",
    "\n",
    "rows = json_data['data']\n",
    "\n",
    "with open('Outttput.csv', 'w', newline='', encoding='utf-8') as csvfile:\n",
    "    fieldnames = [col['name'] for col in columns][columns_to_exclude:] # Extract column names from metadata\n",
    "    writer = csv.writer(csvfile)\n",
    "    writer.writerow(fieldnames)\n",
    "    for row in rows:\n",
    "        writer.writerow(row[columns_to_exclude:])\n",
    "\n",
    "#df = pd.DataFrame(json_data['data'])\n",
    "\n",
    "# Write the dataframe to a CSV file\n",
    "#df.to_csv('data.csv', index=False)"
   ]
  },
  {
   "cell_type": "code",
   "execution_count": null,
   "id": "3a91dc67",
   "metadata": {},
   "outputs": [],
   "source": []
  }
 ],
 "metadata": {
  "kernelspec": {
   "display_name": "Python 3 (ipykernel)",
   "language": "python",
   "name": "python3"
  },
  "language_info": {
   "codemirror_mode": {
    "name": "ipython",
    "version": 3
   },
   "file_extension": ".py",
   "mimetype": "text/x-python",
   "name": "python",
   "nbconvert_exporter": "python",
   "pygments_lexer": "ipython3",
   "version": "3.10.9"
  }
 },
 "nbformat": 4,
 "nbformat_minor": 5
}
