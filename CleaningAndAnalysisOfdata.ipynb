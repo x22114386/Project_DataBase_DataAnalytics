{
 "cells": [
  {
   "attachments": {},
   "cell_type": "markdown",
   "metadata": {},
   "source": [
    "## Analysis of the data file competation.csv"
   ]
  },
  {
   "attachments": {},
   "cell_type": "markdown",
   "metadata": {},
   "source": [
    "01. Cleaning and Organizing of data "
   ]
  },
  {
   "attachments": {},
   "cell_type": "markdown",
   "metadata": {},
   "source": [
    "Check the dimension of the data"
   ]
  },
  {
   "cell_type": "code",
   "execution_count": 3,
   "metadata": {},
   "outputs": [
    {
     "name": "stdout",
     "output_type": "stream",
     "text": [
      "Requirement already satisfied: matplotlib in c:\\users\\manu\\appdata\\local\\programs\\python\\python311\\lib\\site-packages (3.7.1)\n",
      "Requirement already satisfied: contourpy>=1.0.1 in c:\\users\\manu\\appdata\\local\\programs\\python\\python311\\lib\\site-packages (from matplotlib) (1.0.7)\n",
      "Requirement already satisfied: cycler>=0.10 in c:\\users\\manu\\appdata\\local\\programs\\python\\python311\\lib\\site-packages (from matplotlib) (0.11.0)\n",
      "Requirement already satisfied: fonttools>=4.22.0 in c:\\users\\manu\\appdata\\local\\programs\\python\\python311\\lib\\site-packages (from matplotlib) (4.39.3)\n",
      "Requirement already satisfied: kiwisolver>=1.0.1 in c:\\users\\manu\\appdata\\local\\programs\\python\\python311\\lib\\site-packages (from matplotlib) (1.4.4)\n",
      "Requirement already satisfied: numpy>=1.20 in c:\\users\\manu\\appdata\\local\\programs\\python\\python311\\lib\\site-packages (from matplotlib) (1.24.2)\n",
      "Requirement already satisfied: packaging>=20.0 in c:\\users\\manu\\appdata\\roaming\\python\\python311\\site-packages (from matplotlib) (23.0)\n",
      "Requirement already satisfied: pillow>=6.2.0 in c:\\users\\manu\\appdata\\local\\programs\\python\\python311\\lib\\site-packages (from matplotlib) (9.5.0)\n",
      "Requirement already satisfied: pyparsing>=2.3.1 in c:\\users\\manu\\appdata\\local\\programs\\python\\python311\\lib\\site-packages (from matplotlib) (3.0.9)\n",
      "Requirement already satisfied: python-dateutil>=2.7 in c:\\users\\manu\\appdata\\roaming\\python\\python311\\site-packages (from matplotlib) (2.8.2)\n",
      "Requirement already satisfied: six>=1.5 in c:\\users\\manu\\appdata\\roaming\\python\\python311\\site-packages (from python-dateutil>=2.7->matplotlib) (1.16.0)\n",
      "Note: you may need to restart the kernel to use updated packages.\n"
     ]
    },
    {
     "name": "stderr",
     "output_type": "stream",
     "text": [
      "\n",
      "[notice] A new release of pip available: 22.3.1 -> 23.0.1\n",
      "[notice] To update, run: python.exe -m pip install --upgrade pip\n"
     ]
    },
    {
     "name": "stdout",
     "output_type": "stream",
     "text": [
      "Requirement already satisfied: Jinja2 in c:\\users\\manu\\appdata\\local\\programs\\python\\python311\\lib\\site-packages (3.1.2)\n",
      "Requirement already satisfied: MarkupSafe>=2.0 in c:\\users\\manu\\appdata\\local\\programs\\python\\python311\\lib\\site-packages (from Jinja2) (2.1.2)\n",
      "Note: you may need to restart the kernel to use updated packages.\n"
     ]
    },
    {
     "name": "stderr",
     "output_type": "stream",
     "text": [
      "\n",
      "[notice] A new release of pip available: 22.3.1 -> 23.0.1\n",
      "[notice] To update, run: python.exe -m pip install --upgrade pip\n"
     ]
    },
    {
     "name": "stdout",
     "output_type": "stream",
     "text": [
      "Requirement already satisfied: pandas in c:\\users\\manu\\appdata\\local\\programs\\python\\python311\\lib\\site-packages (2.0.0)\n",
      "Requirement already satisfied: python-dateutil>=2.8.2 in c:\\users\\manu\\appdata\\roaming\\python\\python311\\site-packages (from pandas) (2.8.2)\n",
      "Requirement already satisfied: pytz>=2020.1 in c:\\users\\manu\\appdata\\local\\programs\\python\\python311\\lib\\site-packages (from pandas) (2023.3)\n",
      "Requirement already satisfied: tzdata>=2022.1 in c:\\users\\manu\\appdata\\local\\programs\\python\\python311\\lib\\site-packages (from pandas) (2023.3)\n",
      "Requirement already satisfied: numpy>=1.21.0 in c:\\users\\manu\\appdata\\local\\programs\\python\\python311\\lib\\site-packages (from pandas) (1.24.2)\n",
      "Requirement already satisfied: six>=1.5 in c:\\users\\manu\\appdata\\roaming\\python\\python311\\site-packages (from python-dateutil>=2.8.2->pandas) (1.16.0)\n",
      "Note: you may need to restart the kernel to use updated packages.\n"
     ]
    },
    {
     "name": "stderr",
     "output_type": "stream",
     "text": [
      "\n",
      "[notice] A new release of pip available: 22.3.1 -> 23.0.1\n",
      "[notice] To update, run: python.exe -m pip install --upgrade pip\n"
     ]
    }
   ],
   "source": [
    "%pip install matplotlib\n",
    "%pip install Jinja2\n",
    "%pip install pandas \n",
    "#%pip install matplotlib"
   ]
  },
  {
   "cell_type": "code",
   "execution_count": 4,
   "metadata": {},
   "outputs": [
    {
     "name": "stdout",
     "output_type": "stream",
     "text": [
      "Shape of data is :   (1000, 11)\n"
     ]
    }
   ],
   "source": [
    "import pandas as pd\n",
    "\n",
    "processingDataFrame=pd.read_csv('C:\\\\Users\\\\Manu\\\\Downloads\\\\StudiesNCI\\\\MichealBrad_DB\\\\projects\\\\competitions.csv')\n",
    "print('Shape of data is :  ',processingDataFrame.shape) #Shape of data."
   ]
  },
  {
   "attachments": {},
   "cell_type": "markdown",
   "metadata": {},
   "source": [
    "Total number of null reocrds in processingDataFrame :\n"
   ]
  },
  {
   "cell_type": "code",
   "execution_count": 5,
   "metadata": {},
   "outputs": [
    {
     "name": "stdout",
     "output_type": "stream",
     "text": [
      "Total null reocrds in Data :\n",
      " id                   0\n",
      "country              0\n",
      "state                0\n",
      "city                 0\n",
      "station              0\n",
      "last_update          0\n",
      "pollutant_id         0\n",
      "pollutant_min       57\n",
      "pollutant_max       57\n",
      "pollutant_avg       57\n",
      "pollutant_unit    1000\n",
      "dtype: int64\n"
     ]
    }
   ],
   "source": [
    "print('Total null reocrds in Data :\\n',processingDataFrame.isnull().sum())"
   ]
  },
  {
   "cell_type": "code",
   "execution_count": 6,
   "metadata": {},
   "outputs": [
    {
     "name": "stdout",
     "output_type": "stream",
     "text": [
      "id                  0.0\n",
      "country             0.0\n",
      "state               0.0\n",
      "city                0.0\n",
      "station             0.0\n",
      "last_update         0.0\n",
      "pollutant_id        0.0\n",
      "pollutant_min       5.7\n",
      "pollutant_max       5.7\n",
      "pollutant_avg       5.7\n",
      "pollutant_unit    100.0\n",
      "dtype: float64\n"
     ]
    }
   ],
   "source": [
    "#missing values in the columns with the % of total values\n",
    "mis_val=processingDataFrame.isnull().sum()\n",
    "mis_val_percent=100*mis_val/len(processingDataFrame)\n",
    "print(mis_val_percent)\n",
    "Mis_val=pd.concat([mis_val,mis_val_percent],axis=1)\n",
    "Mis_val=Mis_val.rename(columns={0 : 'Missing Values', 1 : '% of Total Values'})"
   ]
  },
  {
   "cell_type": "code",
   "execution_count": 7,
   "metadata": {},
   "outputs": [],
   "source": [
    "#Mis_val = Mis_val[Mis_val.iloc[:,1]!=0].sort_values(by='% of Total Values',ascending=False)\n",
    "#styled_Mis_val = Mis_val.style.background_gradient(cmap='Reds')\n",
    "\n",
    "\n",
    "#Mis_val=Mis_val[Mis_val.iloc[:,1]!=0].sort_values(by='percen of Total Values',ascending=False).style.background_gradient(cmap='Reds')\n",
    "\n",
    "Mis_val_filtered = Mis_val.loc[Mis_val.iloc[:, 1] != 0].sort_values(by='% of Total Values', ascending=False)\n",
    "styled_Mis_val = Mis_val_filtered.style.background_gradient(cmap='Reds')\n"
   ]
  },
  {
   "cell_type": "code",
   "execution_count": 8,
   "metadata": {},
   "outputs": [
    {
     "data": {
      "text/html": [
       "<style type=\"text/css\">\n",
       "#T_a122e_row0_col0, #T_a122e_row0_col1 {\n",
       "  background-color: #67000d;\n",
       "  color: #f1f1f1;\n",
       "}\n",
       "#T_a122e_row1_col0, #T_a122e_row1_col1, #T_a122e_row2_col0, #T_a122e_row2_col1, #T_a122e_row3_col0, #T_a122e_row3_col1 {\n",
       "  background-color: #fff5f0;\n",
       "  color: #000000;\n",
       "}\n",
       "</style>\n",
       "<table id=\"T_a122e\">\n",
       "  <thead>\n",
       "    <tr>\n",
       "      <th class=\"blank level0\" >&nbsp;</th>\n",
       "      <th id=\"T_a122e_level0_col0\" class=\"col_heading level0 col0\" >Missing Values</th>\n",
       "      <th id=\"T_a122e_level0_col1\" class=\"col_heading level0 col1\" >% of Total Values</th>\n",
       "    </tr>\n",
       "  </thead>\n",
       "  <tbody>\n",
       "    <tr>\n",
       "      <th id=\"T_a122e_level0_row0\" class=\"row_heading level0 row0\" >pollutant_unit</th>\n",
       "      <td id=\"T_a122e_row0_col0\" class=\"data row0 col0\" >1000</td>\n",
       "      <td id=\"T_a122e_row0_col1\" class=\"data row0 col1\" >100.000000</td>\n",
       "    </tr>\n",
       "    <tr>\n",
       "      <th id=\"T_a122e_level0_row1\" class=\"row_heading level0 row1\" >pollutant_min</th>\n",
       "      <td id=\"T_a122e_row1_col0\" class=\"data row1 col0\" >57</td>\n",
       "      <td id=\"T_a122e_row1_col1\" class=\"data row1 col1\" >5.700000</td>\n",
       "    </tr>\n",
       "    <tr>\n",
       "      <th id=\"T_a122e_level0_row2\" class=\"row_heading level0 row2\" >pollutant_max</th>\n",
       "      <td id=\"T_a122e_row2_col0\" class=\"data row2 col0\" >57</td>\n",
       "      <td id=\"T_a122e_row2_col1\" class=\"data row2 col1\" >5.700000</td>\n",
       "    </tr>\n",
       "    <tr>\n",
       "      <th id=\"T_a122e_level0_row3\" class=\"row_heading level0 row3\" >pollutant_avg</th>\n",
       "      <td id=\"T_a122e_row3_col0\" class=\"data row3 col0\" >57</td>\n",
       "      <td id=\"T_a122e_row3_col1\" class=\"data row3 col1\" >5.700000</td>\n",
       "    </tr>\n",
       "  </tbody>\n",
       "</table>\n"
      ],
      "text/plain": [
       "<pandas.io.formats.style.Styler at 0x236e84766d0>"
      ]
     },
     "execution_count": 8,
     "metadata": {},
     "output_type": "execute_result"
    }
   ],
   "source": [
    "#display the data with gradient scale with increase in missing values with darkest \n",
    "styled_Mis_val"
   ]
  },
  {
   "cell_type": "code",
   "execution_count": null,
   "metadata": {},
   "outputs": [],
   "source": []
  }
 ],
 "metadata": {
  "kernelspec": {
   "display_name": "Python 3",
   "language": "python",
   "name": "python3"
  },
  "language_info": {
   "codemirror_mode": {
    "name": "ipython",
    "version": 3
   },
   "file_extension": ".py",
   "mimetype": "text/x-python",
   "name": "python",
   "nbconvert_exporter": "python",
   "pygments_lexer": "ipython3",
   "version": "3.11.3"
  },
  "orig_nbformat": 4
 },
 "nbformat": 4,
 "nbformat_minor": 2
}
